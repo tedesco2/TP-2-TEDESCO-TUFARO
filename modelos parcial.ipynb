{
 "cells": [
  {
   "cell_type": "markdown",
   "metadata": {},
   "source": [
    "PARCIAL 1"
   ]
  },
  {
   "cell_type": "code",
   "execution_count": 13,
   "metadata": {},
   "outputs": [
    {
     "name": "stdout",
     "output_type": "stream",
     "text": [
      "13 30 7\n"
     ]
    }
   ],
   "source": [
    "#ej1 \n",
    "t1 = \"TAGGTTAATGGGCCATTTTCGGCACCCTAGGTAGCTTATT\"\n",
    "t2 = \"ACCATACTATGGTTTTTCCTAAGCGATTGGCATTTTCTTG\"\n",
    "l_t1 = [letra for letra in t1]\n",
    "l_t2 = [letra for letra in t2]\n",
    "\n",
    "max_compatibilidad = 0\n",
    "indice_t1 = 0\n",
    "indice_t2 = 0\n",
    "\n",
    "for ind,letra1 in enumerate(l_t1):\n",
    "    for ind1, letra2 in enumerate(l_t2):\n",
    "        cant = 0\n",
    "        while ind+cant < len(l_t1) and ind1+cant < len(l_t2) and l_t1[ind+cant]==l_t2[ind1+cant]:\n",
    "            cant +=1\n",
    "        if cant > max_compatibilidad:\n",
    "            max_compatibilidad = cant\n",
    "            indice_t1 = ind\n",
    "            indice_t2 = ind1\n",
    "\n",
    "print(indice_t1,indice_t2,max_compatibilidad)\n",
    "\n"
   ]
  },
  {
   "cell_type": "code",
   "execution_count": 14,
   "metadata": {},
   "outputs": [],
   "source": [
    "#ej2\n",
    "import math\n",
    "\n",
    "def fx(x):\n",
    "    return math.cos(x) - 2*(x**3)\n",
    "\n",
    "def dfdx(x):\n",
    "    return -1* math.sin(x) - 6*(x**2)\n"
   ]
  },
  {
   "cell_type": "markdown",
   "metadata": {},
   "source": [
    "PARCIAL 2\n",
    "\n"
   ]
  },
  {
   "cell_type": "code",
   "execution_count": 16,
   "metadata": {},
   "outputs": [
    {
     "name": "stdout",
     "output_type": "stream",
     "text": [
      "a a a e i u o\n",
      "Vocal:a --- Cant:3\n",
      "Vocal:e --- Cant:1\n",
      "Vocal:i --- Cant:1\n",
      "Vocal:u --- Cant:1\n",
      "Vocal:o --- Cant:1\n"
     ]
    }
   ],
   "source": [
    "#ej1 \n",
    "def freq_vocals(cadena: str)->dict:\n",
    "    dic = {}\n",
    "    vocals = [\"a\",\"e\",\"i\",\"o\",\"u\"]\n",
    "    lista_letras = [letra for letra in cadena]\n",
    "    for letra in lista_letras:\n",
    "        if letra in vocals:\n",
    "            if not(letra in dic):\n",
    "                dic[letra] = 1\n",
    "            else:\n",
    "                dic[letra] += 1\n",
    "    return dic\n",
    "\n",
    "texto = input()\n",
    "print(texto)\n",
    "dic = freq_vocals(texto)\n",
    "for key,value in dic.items():\n",
    "    print(f'Vocal:{key} --- Cant:{value}')"
   ]
  },
  {
   "cell_type": "code",
   "execution_count": 20,
   "metadata": {},
   "outputs": [
    {
     "name": "stdout",
     "output_type": "stream",
     "text": [
      "First Name\tLast Name\tCountry\tDate of Birth\n",
      "Lewis\tHamilton\tUnited Kingdom\t1985\n",
      "Max\tVerstappen\tBelgium\t1997\n",
      "Charles\tLeclerc\tMonaco\t1997\n"
     ]
    }
   ],
   "source": [
    "#ej2\n",
    "def tsv(secuencia : list) -> str:\n",
    "    renglones_tvs = [\"\\t\".join(renglon) for renglon in secuencia]\n",
    "    return \"\\n\".join(renglones_tvs)\n",
    "\n",
    "info = [\n",
    "  (\"First Name\",\"Last Name\",\"Country\",\"Date of Birth\"),\n",
    "  (\"Lewis\",\"Hamilton\",\"United Kingdom\",\"1985\"),\n",
    "  (\"Max\",\"Verstappen\",\"Belgium\",\"1997\"),\n",
    "  (\"Charles\",\"Leclerc\",\"Monaco\",\"1997\")\n",
    "]\n",
    "print(tsv(info))\n",
    "\n"
   ]
  },
  {
   "cell_type": "code",
   "execution_count": 32,
   "metadata": {},
   "outputs": [
    {
     "name": "stdout",
     "output_type": "stream",
     "text": [
      "¿En que año el hombre llegó a la luna?\n",
      "1. 1959\n",
      "2. 1787\n",
      "3. 1969\n",
      "4. 1979\n",
      "1979\n"
     ]
    }
   ],
   "source": [
    "#ej3\n",
    "\n",
    "def quiz(pregunta : dict) ->str:\n",
    "    print(pregunta[\"enunciado\"])\n",
    "    for k,v in pregunta[\"opciones\"].items():\n",
    "        print(f'{k}. {v}')\n",
    "    respuesta = input(\">\")\n",
    "    while not (respuesta in pregunta[\"opciones\"]):\n",
    "        respuesta = input(\"Respuesta no valida, volve a ingresar una opcion\")\n",
    "    ans = pregunta[\"opciones\"][respuesta]\n",
    "    return ans\n",
    "\n",
    "pregunta = {'enunciado': '¿En que año el hombre llegó a la luna?',\n",
    "            'opciones': {'1': '1959','2': '1787', '3': '1969', '4': '1979'},\n",
    "            'respuesta': '3'}\n",
    "print(\"Respuesta:\",quiz(pregunta))\n"
   ]
  },
  {
   "cell_type": "code",
   "execution_count": 42,
   "metadata": {},
   "outputs": [
    {
     "name": "stdout",
     "output_type": "stream",
     "text": [
      "[[1.0, 2.0]]\n",
      "[[1.0, 2.0], [3.0, 4.0]]\n",
      "No se pueden sumar las matrices\n"
     ]
    }
   ],
   "source": [
    "#ej 4\n",
    "from copy import deepcopy\n",
    "\n",
    "def crear_matriz():\n",
    "    filas = int(input(\"Ingrese la cantidad de filas:\"))\n",
    "    col = int(input(\"Ingrese la cantidad de columnas\"))\n",
    "    matriz = []\n",
    "    for f in range(filas):\n",
    "        fila = []\n",
    "        for c in range(col):\n",
    "            num = float(input(f'Ingrese un valor para la fila{f}-columna{c}:'))\n",
    "            fila.append(num)\n",
    "        matriz.append(fila)\n",
    "    return matriz\n",
    "\n",
    "def sum_matriz(A:list,B:list)->list:\n",
    "    if len(A) != len(B):\n",
    "        return \"No se pueden sumar las matrices\"\n",
    "    for filaA,filaB in zip(A,B):\n",
    "        if len(filaA) != len(filaB):\n",
    "            return \"No se pueden sumar las matrices\"\n",
    "    matriz_suma = deepcopy(A)\n",
    "    for fila in range(len(A)):\n",
    "        for col in range(len(A[0])):\n",
    "            matriz_suma[fila][col] = A[fila][col] + B[fila][col]\n",
    "    return matriz_suma\n",
    "\n",
    "A = crear_matriz()\n",
    "B = crear_matriz()\n",
    "C = sum_matriz(A,B)\n",
    "print(A)\n",
    "print(B)\n",
    "print(C)\n"
   ]
  },
  {
   "cell_type": "markdown",
   "metadata": {},
   "source": [
    "PARCIAL 3"
   ]
  },
  {
   "cell_type": "code",
   "execution_count": 51,
   "metadata": {},
   "outputs": [
    {
     "name": "stdout",
     "output_type": "stream",
     "text": [
      "Producto: TV, Precio: $350000.0, Stock: 15 unidades disponibles\n"
     ]
    }
   ],
   "source": [
    "#ej1\n",
    "inv = [\n",
    "    {'nombre': 'smartphone', 'precio': 300000.0, 'stock': 50},\n",
    "    {'nombre': 'tv', 'precio': 350000.0, 'stock': 15},\n",
    "    {'nombre': 'notebook', 'precio': 550000.0, 'stock': 10},\n",
    "    {'nombre': 'tablet', 'precio': 550000.0, 'stock': 0},\n",
    "]\n",
    "\n",
    "def info_prod(nombre:str,inv:list)->dict:\n",
    "    for dic in inv:\n",
    "        if dic[\"nombre\"] == nombre:\n",
    "            return dic\n",
    "    return \"no existe\"\n",
    "\n",
    "prod = input(\"Nombre del producto a consultar:\")\n",
    "dic = info_prod(prod,inv)\n",
    "\n",
    "if dic == \"no existe\":\n",
    "    print(f'Producto: {prod.upper()} no encontrado en la tienda de electronica')\n",
    "elif dic[\"stock\"] == 0:\n",
    "    print(f'Producto: {prod.upper()} no tiene unidades disponibles en este momento')\n",
    "else: \n",
    "    precio = dic[\"precio\"]\n",
    "    stock = dic[\"stock\"]\n",
    "    print(f'Producto: {prod.upper()}, Precio: ${precio}, Stock: {stock} unidades disponibles')\n"
   ]
  },
  {
   "cell_type": "code",
   "execution_count": 54,
   "metadata": {},
   "outputs": [
    {
     "name": "stdout",
     "output_type": "stream",
     "text": [
      "comenzando la carga de datos...\n",
      "funcion [('Ignacio', 'Tufaro'), ('Julieta', 'Tufaro'), ('Agustina', 'Tufaro')]\n",
      "Nombre: Ignacio\n",
      "Apellido: Tufaro\n",
      "\n",
      "Nombre: Julieta\n",
      "Apellido: Tufaro\n",
      "\n",
      "Nombre: Agustina\n",
      "Apellido: Tufaro\n",
      "\n"
     ]
    }
   ],
   "source": [
    "#ej2\n",
    "\n",
    "def cargar_nombres():\n",
    "    print(\"comenzando la carga de datos...\")\n",
    "    nombres = []\n",
    "    while True:\n",
    "        nombre = input(\"Ingrese el nombre y apellido (separados por una coma y sin espacio)\")\n",
    "        if nombre == \"q\":\n",
    "            break\n",
    "        else:\n",
    "            lista = nombre.split(\",\")\n",
    "            lista_cap = [e.capitalize() for e in lista]\n",
    "            nombres.append(tuple(lista_cap))\n",
    "    return nombres\n",
    "\n",
    "datos = cargar_nombres()\n",
    "print(\"funcion\",datos)\n",
    "for nombre,apellido in datos:\n",
    "    print(f'Nombre: {nombre}\\nApellido: {apellido}\\n')\n",
    "\n"
   ]
  },
  {
   "cell_type": "code",
   "execution_count": 59,
   "metadata": {},
   "outputs": [
    {
     "name": "stdout",
     "output_type": "stream",
     "text": [
      "Name                         Time   Artist\n",
      "--------------------------------------------------\n",
      "Wicked                       2:53   Future\n",
      "Cudi Montage                 3:16   KIDS SEE GHOSTS\n",
      "Cellular                     2:58   King Krule\n",
      "The Birthday Party           4:45   The 1975\n",
      "One                          4:36   U2\n"
     ]
    }
   ],
   "source": [
    "canciones = [[\"Wicked\",\"2:53\",\"Future\"],\n",
    "    [\"Cudi Montage\",\"3:16\",\"KIDS SEE GHOSTS\"],\n",
    "    [\"Cellular\",\"2:58\",\"King Krule\"],\n",
    "    [\"The Birthday Party\",\"4:45\",\"The 1975\"],\n",
    "    [\"One\",\"4:36\",\"U2\"]]\n",
    "\n",
    "print(\"Name\".ljust(28), \"Time\".ljust(6), \"Artist\")\n",
    "print(\"-\" * 50)\n",
    "for cancion in canciones:\n",
    "    print(cancion[0].ljust(28), cancion[1].ljust(6), cancion[2])\n"
   ]
  },
  {
   "cell_type": "code",
   "execution_count": 71,
   "metadata": {},
   "outputs": [
    {
     "name": "stdout",
     "output_type": "stream",
     "text": [
      "¿Quién propuso el uso de la corriente alterna?\n",
      "1. Turing\n",
      "2. Tesla\n",
      "3. Edison\n",
      "4. Bell\n",
      "¡Correcta!\n"
     ]
    }
   ],
   "source": [
    "#ej4\n",
    "def quiz(dic: dict)->str:\n",
    "    print(dic[\"pregunta\"])\n",
    "    for key,valor in dic[\"opciones\"].items():\n",
    "        print(f'{key}. {valor}')\n",
    "    \n",
    "    ans = input(\">\")\n",
    "    if not (int(ans) in dic[\"opciones\"]):\n",
    "        return \"Error!\"\n",
    "    elif dic[\"respuesta\"] == int(ans):\n",
    "        return \"¡Correcta!\"\n",
    "    else:\n",
    "        return \"¡Incorrecta!\"\n",
    "    \n",
    "quiz_1 = {\n",
    "  'pregunta': '¿Quién propuso el uso de la corriente alterna?',\n",
    "  'opciones': {1: 'Turing', 2: 'Tesla', 3: 'Edison', 4: 'Bell'},\n",
    "  'respuesta': 2\n",
    "}\n",
    "\n",
    "print(quiz(quiz_1))"
   ]
  }
 ],
 "metadata": {
  "kernelspec": {
   "display_name": "Python 3",
   "language": "python",
   "name": "python3"
  },
  "language_info": {
   "codemirror_mode": {
    "name": "ipython",
    "version": 3
   },
   "file_extension": ".py",
   "mimetype": "text/x-python",
   "name": "python",
   "nbconvert_exporter": "python",
   "pygments_lexer": "ipython3",
   "version": "3.12.2"
  }
 },
 "nbformat": 4,
 "nbformat_minor": 2
}
