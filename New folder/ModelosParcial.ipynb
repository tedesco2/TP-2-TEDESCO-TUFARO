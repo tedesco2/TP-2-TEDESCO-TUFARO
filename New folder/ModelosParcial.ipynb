{
 "cells": [
  {
   "cell_type": "code",
   "execution_count": 46,
   "metadata": {},
   "outputs": [
    {
     "name": "stdout",
     "output_type": "stream",
     "text": [
      "[14, 16, 18]\n",
      "[14, 16, 18]\n",
      "[14, 16, 18]\n"
     ]
    }
   ],
   "source": [
    "A = [[[1,2,3],[4,5,6], [7,8,9]], [[1,2,3],[4,5,6], [7,8,9]], [[1,2,3],[4,5,6], [7,8,9]]]\n",
    "B = [[[1,2,3],[4,5,6], [7,8,9]], [[1,2,3],[4,5,6], [7,8,9]], [[1,2,3],[4,5,6], [7,8,9]]]\n",
    "C = []\n",
    "\n",
    "for i in range(len(A)):\n",
    "    for j in range(len(A[i])):\n",
    "        sec=[]\n",
    "        for q in range(len(A[i][j])):\n",
    "            sec.append(A[i][j][q] + B[i][j][q])\n",
    "    C.append(sec)\n",
    "        \n",
    "for e in C:\n",
    "    print(e)"
   ]
  },
  {
   "cell_type": "code",
   "execution_count": 60,
   "metadata": {},
   "outputs": [
    {
     "name": "stdout",
     "output_type": "stream",
     "text": [
      "Tu matriz A es:\n",
      "[1, 3, 2, 8]\n",
      "[1, 2, 8, 0]\n",
      "[9, 0, 2, 2]\n",
      "Tu matriz B es:\n",
      "[1, 8, 2, 9]\n",
      "[4, 9, 9, 7]\n",
      "[5, 8, 3, 5]\n",
      "\n",
      "La suma es: \n",
      "[2, 11, 4, 17]\n",
      "[5, 11, 17, 7]\n",
      "[14, 8, 5, 7]\n"
     ]
    }
   ],
   "source": [
    "n = int(input(\"Defina las filas\"))\n",
    "m = int(input(\"Defina las columnas\"))\n",
    "import random\n",
    "A = []\n",
    "B = []\n",
    "C = []\n",
    "valores = [1,2,3,4,5,6,7,8,9,0]\n",
    "\n",
    "for e in range(n):\n",
    "    sec = []\n",
    "    for i in range(m):\n",
    "        valor = random.choice(valores)\n",
    "        sec.append(valor)\n",
    "    A.append(sec)\n",
    "print(\"Tu matriz A es:\")\n",
    "for e in A:\n",
    "    print(e)\n",
    "\n",
    "for e in range(n):\n",
    "    sec = []\n",
    "    for i in range(m):\n",
    "        valor = random.choice(valores)\n",
    "        sec.append(valor)\n",
    "    B.append(sec)\n",
    "\n",
    "print(\"Tu matriz B es:\")\n",
    "for e in B:\n",
    "    print(e)\n",
    "C = [[A[i][j] + B[i][j] for j in range(len(A[i]))] for i in range(len(A))]\n",
    "\n",
    "\n",
    "print(\"\\nLa suma es: \")\n",
    "for e in C:\n",
    "    print(e)"
   ]
  },
  {
   "cell_type": "code",
   "execution_count": 47,
   "metadata": {},
   "outputs": [
    {
     "name": "stdout",
     "output_type": "stream",
     "text": [
      "[[5, 7, 9], [11, 13, 15]]\n"
     ]
    }
   ],
   "source": [
    "A = [[1,2,3],[4,5,6]]\n",
    "B = [[4,5,6],[7,8,9]]\n",
    "C = []\n",
    "\n",
    "C = [[A[i][j] + B[i][j] for j in range(len(A[i]))] for i in range(len(A))]\n",
    "\n",
    "print(C)"
   ]
  },
  {
   "cell_type": "code",
   "execution_count": 71,
   "metadata": {},
   "outputs": [
    {
     "name": "stdout",
     "output_type": "stream",
     "text": [
      "{'a': 2, 'e': 0, 'i': 0, 'o': 0, 'u': 0}\n"
     ]
    }
   ],
   "source": [
    "cadena = \"aA\"\n",
    "def contar_vocales(cadena):\n",
    "    cadena = cadena.lower() \n",
    "    vocales = [\"a\",\"e\",\"i\",\"o\",\"u\"]\n",
    "    dic = {key : 0 for key in vocales}\n",
    "    for clave in dic:\n",
    "        cant = 0\n",
    "        for letra in cadena: \n",
    "            if letra == clave:\n",
    "                dic[clave] += 1\n",
    "\n",
    "    \n",
    "    return dic\n",
    "\n",
    "\n",
    "\n",
    "print(contar_vocales(cadena))\n",
    "        "
   ]
  },
  {
   "cell_type": "code",
   "execution_count": 76,
   "metadata": {},
   "outputs": [
    {
     "name": "stdout",
     "output_type": "stream",
     "text": [
      "[[4 4 3 6 4 4]\n",
      " [4 4 3 6 4 4]\n",
      " [2 2 1 3 2 2]\n",
      " [6 6 5 8 6 6]\n",
      " [4 4 3 6 4 4]\n",
      " [4 4 3 6 4 4]]\n"
     ]
    }
   ],
   "source": [
    "#NUMPY CON SLICING (numpy.padling)\n",
    "#me devuelve la varianza y la media (vuelve 1 linea los 4 bloques)\n",
    "import numpy as np\n",
    "\n",
    "arrey = [[1,3],[5,8]]\n",
    "pad_arr = np.pad(arrey, (2,2), 'mean') #con el mode mean, hizo la media\n",
    "\n",
    "print(pad_arr)"
   ]
  }
 ],
 "metadata": {
  "kernelspec": {
   "display_name": "Python 3",
   "language": "python",
   "name": "python3"
  },
  "language_info": {
   "codemirror_mode": {
    "name": "ipython",
    "version": 3
   },
   "file_extension": ".py",
   "mimetype": "text/x-python",
   "name": "python",
   "nbconvert_exporter": "python",
   "pygments_lexer": "ipython3",
   "version": "3.12.2"
  }
 },
 "nbformat": 4,
 "nbformat_minor": 2
}
