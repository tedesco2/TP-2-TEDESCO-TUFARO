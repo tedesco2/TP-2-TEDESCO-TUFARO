{
 "cells": [
  {
   "cell_type": "markdown",
   "metadata": {
    "isInteractiveWindowMessageCell": true
   },
   "source": [
    "Connected to Python 3.12.2"
   ]
  },
  {
   "cell_type": "code",
   "execution_count": 20,
   "metadata": {},
   "outputs": [
    {
     "name": "stdout",
     "output_type": "stream",
     "text": [
      "Con $15000, puede comprar un televisor de 1 pulgadas\n",
      "Le sugerimos buscar los modelos economicos\n"
     ]
    }
   ],
   "source": [
    "#2023 tema1B\n",
    "#ej1\n",
    "def pulg_max(presupuesto):\n",
    "    pulgadas_max = presupuesto // 10000\n",
    "    return pulgadas_max\n",
    "def sugerencia(presupuesto):\n",
    "    if presupuesto < 200000:\n",
    "        print(\"Le sugerimos buscar los modelos economicos\")\n",
    "    elif 200000 <= presupuesto <= 500000:\n",
    "        print(\"Le sugerimos los modelos de pantalla plana/4k\")\n",
    "    elif presupuesto > 500000:\n",
    "        print(\"Le sugremos los modelos de pantalla curva/Qled/8k\")\n",
    "\n",
    "presupuesto = int(input(\"Ingrese su presupuesto: \"))\n",
    "\n",
    "if presupuesto > 0:\n",
    "    pulgadas = pulg_max(presupuesto)\n",
    "    cadena = f'Con ${presupuesto}, puede comprar un televisor de {pulgadas} pulgadas'\n",
    "    print(cadena)\n",
    "    sugerencia(presupuesto)\n",
    "else: \n",
    "    print(\"Eror! Se ingreso un presupuesto negativo\")\n",
    "\n"
   ]
  },
  {
   "cell_type": "code",
   "execution_count": 24,
   "metadata": {},
   "outputs": [
    {
     "name": "stdout",
     "output_type": "stream",
     "text": [
      "La nota final de Fisica es: 8.0\n"
     ]
    }
   ],
   "source": [
    "#2023 tema1B\n",
    "#ej2\n",
    "\n",
    "p1F = int(input(\"Ingrese la nota del parcial 1 de Fisica: \"))\n",
    "p2F = int(input(\"Ingrese la nota del parcial 2 de Fisica: \"))\n",
    "tpF = int(input(\"Ingrese la nota del tp de Fisica: \"))\n",
    "\n",
    "p1A = int(input(\"Ingrese la nota del parcial 1 de Analisi: \"))\n",
    "p2A = int(input(\"Ingrese la nota del parcial 2 de Analisis: \"))\n",
    "tpA = int(input(\"Ingrese la nota del tp de analisis: \"))\n",
    "\n",
    "alumno = [\n",
    "    {\"Fisica\":[p1F,p2F,tpF]},\n",
    "    {\"Analisis\":[p1A,p2A,tpA]}]\n",
    "\n",
    "def nota_materia(alumno):\n",
    "    materia = input(\"Ingrese la materia para saber la nota final: \")\n",
    "    if materia == \"Analisis\":\n",
    "        indice = 1\n",
    "    elif materia == \"Fisica\":\n",
    "        indice = 0\n",
    "    suma_notas = 0\n",
    "    for e in alumno[indice][materia]:\n",
    "        suma_notas += e\n",
    "    prom = suma_notas/len(alumno[indice][materia])\n",
    "    return materia, prom\n",
    "\n",
    "materia, nota_final = nota_materia(alumno)\n",
    "\n",
    "print(\"La nota final de\",materia,\"es:\",nota_final)"
   ]
  },
  {
   "cell_type": "code",
   "execution_count": 13,
   "metadata": {},
   "outputs": [
    {
     "name": "stdout",
     "output_type": "stream",
     "text": [
      "Es exteriro y gigante helado\n"
     ]
    }
   ],
   "source": [
    "#2023 tema2B\n",
    "#ej1\n",
    "\n",
    "planeta = input(\"Elije un planeta: \")\n",
    "planetas = [\"Mercurio\",\"Venus\",\"Tierra\",\"Marte\",\"Jupiter\",\"Saturno\",\"Urano\",\"Neptuno\",\n",
    "            \"mercurio\",\"venus\",\"tierra\",\"marte\",\"jupiter\",\"saturno\",\"urano\",\"neptuno\"]\n",
    "terrestre_interior = [\"Mercurio\",\"Venus\",\"Tierra\",\"Marte\",\"mercurio\",\"venus\",\"tierra\",\"marte\"]\n",
    "exterior_gig_gaseoso = [\"Jupiter\",\"Saturno\",\"jupiter\",\"saturno\"]\n",
    "exterior_gig_helado = [\"Urano\",\"Neptuno\",\"urano\",\"neptuno\"]\n",
    "\n",
    "\n",
    "if planeta not in planetas:\n",
    "    print(\"Error! El planeta elegido no es valido\")\n",
    "else: \n",
    "    if planeta in terrestre_interior:\n",
    "        print(\"Es terrestre interior\")\n",
    "    if planeta in exterior_gig_gaseoso:\n",
    "        print(\"Es exterior y gigante gaseoso\")\n",
    "    if planeta in exterior_gig_helado:\n",
    "        print(\"Es exterior y gigante helado\")\n"
   ]
  },
  {
   "cell_type": "code",
   "execution_count": 5,
   "metadata": {},
   "outputs": [
    {
     "name": "stdout",
     "output_type": "stream",
     "text": [
      "The lord of the Rings\n",
      "Dirigida por Peter Jackson\n",
      "Año 2001\n",
      "Genero fantasia\n",
      "[{'codigo': 1, 'titulo': 'Back to the Future', 'director': 'Spielberg', 'año': 1985, 'genero': 'Sci-Fi'}, {'codigo': 2, 'titulo': 'The lord of the Rings', 'director': 'Peter Jackson', 'año': 2001, 'genero': 'fantasia'}, {'codigo': 3, 'titulo': 'Star Wars', 'director': 'George Lucas', 'año': '1977', 'genero': 'Sci_fi'}]\n"
     ]
    }
   ],
   "source": [
    "#2023 tema2B\n",
    "#ej2\n",
    "\n",
    "pelis = [{\"codigo\":1,\"titulo\":\"Back to the Future\",\"director\":\"Spielberg\",\"año\":1985,\"genero\":\"Sci-Fi\"},\n",
    "         {\"codigo\":2,\"titulo\":\"The lord of the Rings\",\"director\":\"Peter Jackson\",\"año\":2001,\"genero\":\"fantasia\"}]\n",
    "\n",
    "x = input(\"Que pelicula desea consultar:\")\n",
    "\n",
    "if x == \"p\":\n",
    "    print(pelis[0][\"titulo\"])\n",
    "    print(\"Dirigida por\",pelis[0][\"director\"])\n",
    "    print(\"Año\",pelis[0][\"año\"])\n",
    "    print(\"Genero\",pelis[0][\"genero\"])\n",
    "elif x == \"u\":\n",
    "    print(pelis[-1][\"titulo\"])\n",
    "    print(\"Dirigida por\",pelis[-1][\"director\"])\n",
    "    print(\"Año\",pelis[-1][\"año\"])\n",
    "    print(\"Genero\",pelis[-1][\"genero\"])\n",
    "\n",
    "#Ingrese el título: Star Wars\n",
    "#Ingrese Año: 1977\n",
    "#Ingrese Director: George Lucas\n",
    "#Ingrese Género: Sci-Fi\n",
    "def agregar_peli(pelis):\n",
    "    codigo = len(pelis)+1\n",
    "    titulo = input(\"Ingrese el titulo: \")\n",
    "    año = input(\"Ingrese el año: \")\n",
    "    dir = input(\"Ingrese el director: \")\n",
    "    gen = input(\"Ingrese el genero: \")\n",
    "    pelis += [{\"codigo\":codigo,\"titulo\":titulo,\"director\":dir,\"año\":año,\"genero\":gen}]\n",
    "agregar_peli(pelis)\n",
    "print(pelis)"
   ]
  },
  {
   "cell_type": "code",
   "execution_count": 2,
   "metadata": {},
   "outputs": [
    {
     "name": "stdout",
     "output_type": "stream",
     "text": [
      "5652.0\n"
     ]
    }
   ],
   "source": [
    "class Circle():\n",
    "    #Atributos generales\n",
    "    pi = 3.14\n",
    "\n",
    "    def __init__(self,radio): #Defino atributos\n",
    "        self.radio = radio\n",
    "    \n",
    "    #Metodods (operaciones con atributos)\n",
    "    def diametro(self):\n",
    "        return 2* self.radio\n",
    "    \n",
    "    def area(self):\n",
    "        return 2*self.pi*self.radio**2\n",
    "    \n",
    "micirculo = Circle(30)\n",
    "print(micirculo.area())\n",
    "\n",
    "class matriz():\n",
    "    #defino matriz\n",
    "    def __init__(self):\n",
    "        self.matriz = []\n",
    "\n",
    "    \n",
    "\n",
    "    \n",
    "\n",
    "    "
   ]
  },
  {
   "cell_type": "code",
   "execution_count": null,
   "metadata": {},
   "outputs": [],
   "source": []
  }
 ],
 "metadata": {
  "kernelspec": {
   "display_name": "Python 3",
   "language": "python",
   "name": "python3"
  },
  "language_info": {
   "codemirror_mode": {
    "name": "ipython",
    "version": 3
   },
   "file_extension": ".py",
   "mimetype": "text/x-python",
   "name": "python",
   "nbconvert_exporter": "python",
   "pygments_lexer": "ipython3",
   "version": "3.12.2"
  }
 },
 "nbformat": 4,
 "nbformat_minor": 2
}
