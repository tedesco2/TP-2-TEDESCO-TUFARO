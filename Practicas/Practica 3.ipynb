{
 "cells": [
  {
   "cell_type": "markdown",
   "metadata": {
    "isInteractiveWindowMessageCell": true
   },
   "source": [
    "Connected to Python 3.12.2"
   ]
  },
  {
   "cell_type": "code",
   "execution_count": 5,
   "metadata": {},
   "outputs": [
    {
     "name": "stdout",
     "output_type": "stream",
     "text": [
      "[8, 9, 10]\n"
     ]
    }
   ],
   "source": [
    "#5\n",
    "lista = [ 1, 2, 3 ]\n",
    "for e in range(len(lista)):\n",
    "    lista[e] += 7\n",
    "print(lista)\n"
   ]
  },
  {
   "cell_type": "code",
   "execution_count": 9,
   "metadata": {},
   "outputs": [
    {
     "name": "stdout",
     "output_type": "stream",
     "text": [
      "56\n"
     ]
    }
   ],
   "source": [
    "#6\n",
    "lista = [ 10, 5, 30,4,36,56,1 ]\n",
    "\n",
    "mayor = lista[0]\n",
    "\n",
    "for e in range(len(lista)):\n",
    "    if lista[e] > mayor:\n",
    "        mayor = lista[e]\n",
    "\t\n",
    "print(mayor)\n"
   ]
  },
  {
   "cell_type": "code",
   "execution_count": 18,
   "metadata": {},
   "outputs": [
    {
     "name": "stdout",
     "output_type": "stream",
     "text": [
      "P.C."
     ]
    }
   ],
   "source": [
    "cadena = 'PensamientoComputacional'\n",
    "print(cadena[0],cadena[11],sep=\".\",end=\".\")"
   ]
  },
  {
   "cell_type": "code",
   "execution_count": 20,
   "metadata": {},
   "outputs": [
    {
     "name": "stdout",
     "output_type": "stream",
     "text": [
      "El mayor es Esteban\n"
     ]
    }
   ],
   "source": [
    "#9 Imprimir nombre del más joven\n",
    "lista = [ ( 20, 'Juan' ), ( 18, 'Pedro' ), ( 25, 'Esteban' ) ]\n",
    "\n",
    "mayor = lista[0][0]\n",
    "\n",
    "nombre = lista[0][1]\n",
    "\n",
    "for e in range(len(lista)):\n",
    "\tif lista[e][0] > mayor:\n",
    "\t\tmayor = lista[e][0]\n",
    "\t\tnombre = lista [e][1]\n",
    "print('El mayor es' ,nombre)\n"
   ]
  },
  {
   "cell_type": "code",
   "execution_count": 28,
   "metadata": {},
   "outputs": [
    {
     "name": "stdout",
     "output_type": "stream",
     "text": [
      "8.0\n"
     ]
    }
   ],
   "source": [
    "nombre = input(\"Introduzca el nombre:\")\n",
    "apellido = input(\"Introduzca el apellido\")\n",
    "edad = int(input(\"Introduzca la edad\"))\n",
    "p1 = int(input(\"Nota parcial 1\"))\n",
    "p2 = int(input(\"Nota parcial 2\"))\n",
    "p3 = int(input(\"Nota parcial 3\"))\n",
    "\n",
    "persona = [{'Nombre':nombre},\n",
    "           {'Apellido':apellido},\n",
    "           {'Edad':edad},\n",
    "           {'Notas':[p1,p2,p3]}]\n",
    "suma_notas = 0\n",
    "for e in persona[3]['Notas']:\n",
    "    suma_notas += e\n",
    "promedio = suma_notas/len(persona[3]['Notas'])\n",
    "print(promedio)\n"
   ]
  },
  {
   "cell_type": "code",
   "execution_count": null,
   "metadata": {},
   "outputs": [],
   "source": [
    "lista = [ ( 20, 'Juan' ), ( 18, 'Pedro' ), ( 9, 'Esteban' ) ]\n",
    "\n",
    "renglón  = f'+------+---------+'\n",
    "título = f'| Edad | Nombre  |'\n",
    "\n",
    "for e in lista\n"
   ]
  },
  {
   "cell_type": "code",
   "execution_count": 26,
   "metadata": {},
   "outputs": [
    {
     "name": "stdout",
     "output_type": "stream",
     "text": [
      "nombre: Juan\n",
      "edad: 18\n",
      "Juan es mayor de edad\n"
     ]
    }
   ],
   "source": [
    "#DICCIONARIOS 1 y 2\n",
    "persona = { 'nombre': 'Juan', 'edad': 17 }\n",
    "for e in persona:\n",
    "    print(e+\":\",persona[e])\n",
    "if persona['edad']>=18:\n",
    "    print(\"Juan es mayor de edad\")\n",
    "else: \n",
    "    print(\"Juan es  menor de edad\")"
   ]
  },
  {
   "cell_type": "code",
   "execution_count": 29,
   "metadata": {},
   "outputs": [
    {
     "name": "stdout",
     "output_type": "stream",
     "text": [
      "nombre: Juan\n",
      "edad: 14\n",
      "Edad actual 14\n",
      "Edad actual 15\n",
      "Edad actual 16\n",
      "Edad actual 17\n",
      "Felicitaciones! ya tienes 18\n"
     ]
    }
   ],
   "source": [
    "#DICCIONARIOS 3\n",
    "persona = { 'nombre': 'Juan', 'edad': 14 }\n",
    "for e in persona:\n",
    "    print(e+\":\",persona[e])\n",
    "\n",
    "while persona['edad']<18:\n",
    "    print(\"Edad actual\",persona[e])\n",
    "    persona['edad'] += 1\n",
    "\n",
    "print(\"Felicitaciones! ya tienes 18\")"
   ]
  },
  {
   "cell_type": "code",
   "execution_count": 33,
   "metadata": {},
   "outputs": [
    {
     "name": "stdout",
     "output_type": "stream",
     "text": [
      "nombre: Juan\n",
      "apellido: Perez\n",
      "edad: 17\n",
      "Promedio notas: 6.2\n"
     ]
    }
   ],
   "source": [
    "#DICCIONARIOS 9\n",
    "persona = { 'nombre': 'Juan','apellido':'Perez', 'edad': 17 ,'notas':[ 5, 6, 7,8,5 ]}\n",
    "for e in persona:\n",
    "    if e !=\"notas\":\n",
    "        print(e+\":\",persona[e])\n",
    "suma = 0\n",
    "for e in persona[\"notas\"]:\n",
    "    suma += e\n",
    "prom = suma/len(persona[\"notas\"])\n",
    "print(\"Promedio notas:\",prom)"
   ]
  },
  {
   "cell_type": "code",
   "execution_count": 34,
   "metadata": {},
   "outputs": [
    {
     "name": "stdout",
     "output_type": "stream",
     "text": [
      "la pelicula tiene 5 actores\n"
     ]
    }
   ],
   "source": [
    "#MIX 1\n",
    "pelicula = {\n",
    "    'titulo': 'El Padrino',\n",
    "    'director': 'Francis Ford Coppola',\n",
    "    'año': 1972,\n",
    "    'actores': [\n",
    "        'Marlon Brando',\n",
    "        'Al Pacino',\n",
    "        'James Caan',\n",
    "        'Robert Duvall',\n",
    "        'Diane Keaton'\n",
    "    ]\n",
    "}\n",
    "print(\"la pelicula tiene\",len(pelicula[\"actores\"]),\"actores\")"
   ]
  },
  {
   "cell_type": "code",
   "execution_count": 39,
   "metadata": {},
   "outputs": [
    {
     "name": "stdout",
     "output_type": "stream",
     "text": [
      "El mayor es Juan con 21 años\n"
     ]
    }
   ],
   "source": [
    "#MIX 2\n",
    "personas = [ #Es una lista con diccionarios\n",
    "    { 'nombre': 'Juan', 'edad': 21 },\n",
    "    { 'nombre': 'Pedro', 'edad': 18 },\n",
    "    { 'nombre': 'Esteban', 'edad': 19 }\n",
    "]\n",
    "\n",
    "mayor = personas[0]['edad']\n",
    "nombre = personas[0]['nombre']\n",
    "\n",
    "for e in range(len(personas)):\n",
    "\tif personas[e]['edad'] > mayor:\n",
    "\t\tmayor = personas[e]['edad']\n",
    "\t\tnombre = personas[e]['nombre']\n",
    "print('El mayor es',nombre,'con',mayor,'años')\n",
    "\n"
   ]
  },
  {
   "cell_type": "code",
   "execution_count": 41,
   "metadata": {},
   "outputs": [
    {
     "name": "stdout",
     "output_type": "stream",
     "text": [
      "nombre: Ignacio\n",
      "apellido: Tufaro\n",
      "edad: 19\n",
      "Promedio de notas: 7.33\n"
     ]
    }
   ],
   "source": [
    "#MIX 3\n",
    "nombre = input('Ingrese el nombre del alumno')\n",
    "apellido = input('Ingrese el apellido del alumno')\n",
    "edad = input('Ingrese la edad del alumno')\n",
    "nota_p1 = input('Ingrese la nota del primer parcial')\n",
    "nota_p2 = input('Ingrese la nota del segundo parcial')\n",
    "nota_p3 = input('Ingrese la nota del tercer parcial')\n",
    "\n",
    "alumno = {'nombre' : nombre, 'apellido' : apellido, 'edad' : edad, 'notas' : [nota_p1,nota_p2,nota_p3]}\n",
    "\n",
    "for e in alumno:\n",
    "\tif e != 'notas':\n",
    "\t\tprint(e+':',alumno[e])\n",
    "suma_notas = 0\n",
    "for e in alumno['notas']:\n",
    "\tsuma_notas += int(e)\n",
    "promedio = round(suma_notas/len(alumno['notas']),2)\n",
    "print('Promedio de notas:',promedio)"
   ]
  },
  {
   "cell_type": "code",
   "execution_count": 58,
   "metadata": {},
   "outputs": [
    {
     "name": "stdout",
     "output_type": "stream",
     "text": [
      "cantidad de paises: 4\n",
      "El capitan de la seleccion campeona fue: Messi\n",
      "Argentina gano mundiales los años: 1978 1986 2022 "
     ]
    }
   ],
   "source": [
    "#MIX4\n",
    "datos = [{'pais':'Argentina','continente': 'America','Capital':'Messi','Entrenador':'Scaloni','Mundiales ganados':['1978','1986']},\n",
    "         {'pais':'Francia','continente': 'Europa','Capital':'Lloris','Entrenador':'Deschamps','Mundiales ganados':['1998','2018']},\n",
    "         {'pais':'Croacia','continente': 'Europa','Capital':'Moric','Entrenador':'Dalic','Mundiales ganados':[]},\n",
    "         {'pais':'Marruecos','continente': 'Africa','Capital':'Saiss','Entrenador':'Regradui','Mundiales ganados':[]}]\n",
    "\n",
    "#Imprimir la cantidad de países que aparecen en los datos.\n",
    "print(\"cantidad de paises:\",len(datos))\n",
    "\n",
    "#Imprimir el nombre del capitán del ganador de la competencia. (Osea messi)\n",
    "print(\"El capitan de la seleccion campeona fue:\",datos[0]['Capital'])\n",
    "\n",
    "#Agregar 2022 a la lista de mundiales ganados por Argentina.\n",
    "datos[0]['Mundiales ganados'] = ['1978','1986','2022']\n",
    "\n",
    "#Imprimir la cantidad de mundiales ganados por Argentina.\n",
    "print(\"Argentina gano mundiales los años: \", end=\"\")\n",
    "for e in datos[0]['Mundiales ganados']:\n",
    "    print(e, end=\" \")"
   ]
  }
 ],
 "metadata": {
  "kernelspec": {
   "display_name": "Python 3",
   "language": "python",
   "name": "python3"
  },
  "language_info": {
   "codemirror_mode": {
    "name": "ipython",
    "version": 3
   },
   "file_extension": ".py",
   "mimetype": "text/x-python",
   "name": "python",
   "nbconvert_exporter": "python",
   "pygments_lexer": "ipython3",
   "version": "3.12.2"
  }
 },
 "nbformat": 4,
 "nbformat_minor": 2
}
