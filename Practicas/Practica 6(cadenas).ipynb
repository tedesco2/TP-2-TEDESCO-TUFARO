{
 "cells": [
  {
   "cell_type": "code",
   "execution_count": 20,
   "metadata": {},
   "outputs": [
    {
     "name": "stdout",
     "output_type": "stream",
     "text": [
      "\n"
     ]
    }
   ],
   "source": [
    "#ej 2\n",
    "def shorten(cadena):\n",
    "    if len(cadena) < 3:\n",
    "        return cadena\n",
    "    else:\n",
    "        return cadena[0]+cadena[len(cadena)//2]+cadena[-1]\n",
    "\n",
    "cadena = input(\"mensaje\")\n",
    "print(shorten(cadena))\n",
    "\n"
   ]
  },
  {
   "cell_type": "code",
   "execution_count": 27,
   "metadata": {},
   "outputs": [
    {
     "name": "stdout",
     "output_type": "stream",
     "text": [
      "45[.]25[.]63[.]1\n"
     ]
    }
   ],
   "source": [
    "#ej 3\n",
    "\n",
    "def ip_colmillos(ip):\n",
    "    ip_mod = \"[.]\".join(ip.split(\".\"))\n",
    "    return ip_mod\n",
    "\n",
    "ip = input(\"ip: \")\n",
    "print(ip_colmillos(ip))\n"
   ]
  },
  {
   "cell_type": "code",
   "execution_count": 68,
   "metadata": {},
   "outputs": [
    {
     "name": "stdout",
     "output_type": "stream",
     "text": [
      "jhgjh...\n"
     ]
    }
   ],
   "source": [
    "#ej4\n",
    "def acortar_mensaje(n,msg):\n",
    "    if n <= 0:\n",
    "        return \"\"\n",
    "    else:\n",
    "        if len(msg)+3 <= n:\n",
    "            return msg+\"...\"\n",
    "        else:\n",
    "            if n == 1:\n",
    "                return \".\"\n",
    "            elif n == 2:\n",
    "                return\"..\"\n",
    "            elif n == 3:\n",
    "                return \"...\"\n",
    "            elif n > 3:\n",
    "                return msg[0:n-3:1]+\"...\"\n",
    "\n",
    "n = int(input(\"n\"))\n",
    "msg = input(\"mensaje:\")\n",
    "print(acortar_mensaje(n,msg))"
   ]
  },
  {
   "cell_type": "code",
   "execution_count": 75,
   "metadata": {},
   "outputs": [
    {
     "name": "stdout",
     "output_type": "stream",
     "text": [
      "True\n"
     ]
    }
   ],
   "source": [
    "#ej5\n",
    "def sagitario(fecha):\n",
    "    fecha = fecha.split(\"-\")\n",
    "    Sagitario = True if (int(fecha[1]) == 11 and int(fecha[2]) >= 11) or (int(fecha[1]) == 12 and int(fecha[2]) <= 21) else False\n",
    "    return Sagitario\n",
    "\n",
    "fecha = input(\"Fecha: \")\n",
    "print(sagitario(fecha))\n"
   ]
  },
  {
   "cell_type": "code",
   "execution_count": 170,
   "metadata": {},
   "outputs": [
    {
     "name": "stdout",
     "output_type": "stream",
     "text": [
      "msg codificado RXLREKVSFHLZKR\n",
      "AGUANTEBOQUITA\n"
     ]
    }
   ],
   "source": [
    "#ej6\n",
    "def cipher(abc,n,msg):\n",
    "    msg = msg.lower()\n",
    "    msg = [letra for letra in msg]\n",
    "    n= n%26 if n >26 else n\n",
    "    for ind,letra in enumerate(msg):\n",
    "        letra_codificada = abc[((abc.index(letra)+n)%26)] if abc.index(letra)+n > 25 else abc[abc.index(letra)+n]\n",
    "        msg[ind] = letra_codificada\n",
    "    codificado = \"\".join(msg)\n",
    "    return codificado.upper()\n",
    "\n",
    "def decipher(abc,n,msg):\n",
    "    msg = msg.lower()\n",
    "    msg = [letra for letra in msg]\n",
    "    n= n%26 if n >26 else n\n",
    "    for ind,letra in enumerate(msg):\n",
    "        letra_decodificada = abc[(abs((abc.index(letra)-n))%26)] if (abs((abc.index(letra)-n))) > 25 else abc[abc.index(letra)-n]\n",
    "        msg[ind] = letra_decodificada\n",
    "    codificado = \"\".join(msg)\n",
    "    return codificado.upper()\n",
    "\n",
    "\n",
    "\n",
    "abc = [\"a\",\"b\",\"c\",\"d\",\"e\",\"f\",\"g\",\"h\",\"i\",\"j\",\"k\",\"l\",\"m\",\"n\",\"o\",\"p\",\"q\",\"r\",\"s\",\"t\",\"u\",\"v\",\"w\",\"x\",\"y\",\"z\"]\n",
    "\n",
    "n = int(input(\"n:\"))\n",
    "msg = input(\"Mensaje\")\n",
    "msg = cipher(abc,n,msg)\n",
    "print(\"msg codificado\",msg)\n",
    "print(\"msgdecodificado\",decipher(abc,n,msg))"
   ]
  }
 ],
 "metadata": {
  "kernelspec": {
   "display_name": "Python 3",
   "language": "python",
   "name": "python3"
  },
  "language_info": {
   "codemirror_mode": {
    "name": "ipython",
    "version": 3
   },
   "file_extension": ".py",
   "mimetype": "text/x-python",
   "name": "python",
   "nbconvert_exporter": "python",
   "pygments_lexer": "ipython3",
   "version": "3.12.2"
  }
 },
 "nbformat": 4,
 "nbformat_minor": 2
}
