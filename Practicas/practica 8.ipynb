{
 "cells": [
  {
   "cell_type": "code",
   "execution_count": 5,
   "metadata": {},
   "outputs": [
    {
     "name": "stdout",
     "output_type": "stream",
     "text": [
      "55\n"
     ]
    }
   ],
   "source": [
    "#ej2\n",
    "l = [1,2,3,4,2,5,6,3,5,7,8,5,3,1]\n",
    "print(sum(l))"
   ]
  },
  {
   "cell_type": "code",
   "execution_count": 24,
   "metadata": {},
   "outputs": [
    {
     "name": "stdout",
     "output_type": "stream",
     "text": [
      "True\n"
     ]
    }
   ],
   "source": [
    "#ej3\n",
    "l1 = [1,2,3,4,5]\n",
    "l2 = [6,7,8,5]\n",
    "\n",
    "compatibilidad = False\n",
    "for e in l1:\n",
    "    if e in l2:\n",
    "        compatibilidad = True\n",
    "    \n",
    "\n",
    "print(compatibilidad)"
   ]
  },
  {
   "cell_type": "code",
   "execution_count": 25,
   "metadata": {},
   "outputs": [
    {
     "name": "stdout",
     "output_type": "stream",
     "text": [
      "5\n"
     ]
    }
   ],
   "source": [
    "#ej4\n",
    "def count_A(texto):\n",
    "    a = 0 \n",
    "    for e in texto.lower():\n",
    "        if e == \"a\":\n",
    "            a += 1\n",
    "    return a\n",
    "\n",
    "def count_A_alt(texto):\n",
    "    letras = [e for e in texto.lower()]\n",
    "    return letras.count(\"a\")\n",
    "\n",
    "\n",
    "texto = \"AaaAa\"\n",
    "print(count_A(texto))"
   ]
  },
  {
   "cell_type": "code",
   "execution_count": 42,
   "metadata": {},
   "outputs": [
    {
     "name": "stdout",
     "output_type": "stream",
     "text": [
      "su texto:\n",
      " HOLAAAA iii\n",
      "El caracter a tiene 4 ocurrencias\n",
      "El caracter i tiene 3 ocurrencias\n"
     ]
    }
   ],
   "source": [
    "#ej5\n",
    "def count(s,texto):\n",
    "    letras = [e for e in texto.lower()]\n",
    "    return letras.count(s.lower())\n",
    "\n",
    "texto = input(\"Ingrese un texto\")\n",
    "print(\"su texto:\\n\",texto)\n",
    "carac1 = input(\"Que caracter quiere contar\")\n",
    "cant_carac1 = count(carac1,texto)\n",
    "carac2 = input(\"Que caracter quiere contar\")\n",
    "cant_carac2 = count(carac2,texto)\n",
    "\n",
    "print(f'El caracter {carac1} tiene {cant_carac1} ocurrencias')\n",
    "print(f'El caracter {carac2} tiene {cant_carac2} ocurrencias')"
   ]
  },
  {
   "cell_type": "code",
   "execution_count": 46,
   "metadata": {},
   "outputs": [
    {
     "name": "stdout",
     "output_type": "stream",
     "text": [
      "6\n"
     ]
    }
   ],
   "source": [
    "#ej6\n",
    "\n",
    "def contar_joyas(joyas, piedras):\n",
    "    list_piedras = [e for e in piedras]\n",
    "    cant_joyas = 0\n",
    "    for joya in joyas:\n",
    "        cant_joyas += list_piedras.count(joya)\n",
    "    return cant_joyas\n",
    "\n",
    "\n",
    "piedras = \"aAAacbbbbc\"\n",
    "joyas = \"aAc\"\n",
    "print(contar_joyas(joyas,piedras))"
   ]
  },
  {
   "cell_type": "code",
   "execution_count": 56,
   "metadata": {},
   "outputs": [
    {
     "name": "stdout",
     "output_type": "stream",
     "text": [
      "Contraseña invalida\n"
     ]
    }
   ],
   "source": [
    "def valid_pass(contra):\n",
    "    min = False\n",
    "    may = False\n",
    "    num = False\n",
    "    alf = False\n",
    "    if len(contra) >= 8 and len(contra) <= 31:\n",
    "        for e in contra:\n",
    "            if e.islower():\n",
    "                min = True\n",
    "            if e.isupper():\n",
    "                may = True\n",
    "            if e.isdecimal():\n",
    "                num = True\n",
    "            if not e.isalnum():\n",
    "                alf = True\n",
    "    if min == True and may == True and num == True and alf == True:\n",
    "        return True\n",
    "    \n",
    "contra = input(\"Introduce contraseña\")\n",
    "if valid_pass(contra) == True:\n",
    "    print(\"Contraseña valida\")\n",
    "else:\n",
    "    print(\"Contraseña invalida\")"
   ]
  },
  {
   "cell_type": "code",
   "execution_count": 70,
   "metadata": {},
   "outputs": [],
   "source": [
    "#ej 8 y 9\n",
    "def matches(base: str, word: str) -> bool: \n",
    "    if len(base) != len(word):\n",
    "        return False\n",
    "    matches = 0\n",
    "    for a,b in zip(base,word):\n",
    "        if a == b or a == \"?\" or a ==\"*\":\n",
    "            matches += 1\n",
    "    if matches == len(word):\n",
    "        return True\n",
    "\n",
    "\n"
   ]
  },
  {
   "cell_type": "code",
   "execution_count": 1,
   "metadata": {},
   "outputs": [
    {
     "name": "stdout",
     "output_type": "stream",
     "text": [
      "El maximo es: 63.3\n",
      "63.3\n"
     ]
    }
   ],
   "source": [
    "#ej10\n",
    "def my_max(lista):\n",
    "    max = lista[0]\n",
    "    for ind,num in enumerate(lista):\n",
    "        if num > max:\n",
    "            max = num\n",
    "    return max\n",
    "\n",
    "\n",
    "lista = [1,3,5,2.432,24.2,52,2.1,63.3]\n",
    "print(\"El maximo es:\",my_max(lista))\n",
    "print(max(lista))"
   ]
  },
  {
   "cell_type": "code",
   "execution_count": 75,
   "metadata": {},
   "outputs": [
    {
     "name": "stdout",
     "output_type": "stream",
     "text": [
      "['++x', 'x++', '--x', 'x--']\n",
      "0\n"
     ]
    }
   ],
   "source": [
    "#ej11\n",
    "x = 0\n",
    "operaciones = []\n",
    "while True:\n",
    "    op = input(\"Agrega una operacion (q para terminar)\")\n",
    "    if op == \"q\":\n",
    "        break\n",
    "    else:\n",
    "        operaciones.append(op)\n",
    "\n",
    "for op in operaciones:\n",
    "    if op == \"++x\" or  op == \"x++\":\n",
    "        x +=1\n",
    "    elif op == \"--x\" or op == \"x--\":\n",
    "        x-=1\n",
    "\n",
    "print(x)\n",
    "\n"
   ]
  },
  {
   "cell_type": "code",
   "execution_count": 88,
   "metadata": {},
   "outputs": [
    {
     "name": "stdout",
     "output_type": "stream",
     "text": [
      "Longitud de la palabra: 3 --- frecuencia: 1\n",
      "Longitud de la palabra: 4 --- frecuencia: 2\n",
      "Longitud de la palabra: 5 --- frecuencia: 1\n"
     ]
    }
   ],
   "source": [
    "#ej12\n",
    "def freq_largo(texto):\n",
    "    texto_sep = texto.split(\" \")\n",
    "    dic = {}\n",
    "    for palabra in texto_sep:\n",
    "        if not (len(palabra) in dic):\n",
    "            dic[len(palabra)] = 1\n",
    "        else:\n",
    "            dic[len(palabra)] += 1\n",
    "    return dict(sorted(dic.items()))\n",
    "\n",
    "texto = input()\n",
    "dic = freq_largo(texto)\n",
    "for long, freq in dic.items():\n",
    "    print(f'Longitud de la palabra: {long} --- frecuencia: {freq}')\n"
   ]
  },
  {
   "cell_type": "code",
   "execution_count": 3,
   "metadata": {},
   "outputs": [
    {
     "name": "stdout",
     "output_type": "stream",
     "text": [
      "Longitud: 4 --- palabras:['hola', 'como']\n",
      "Longitud: 5 --- palabras:['estas']\n",
      "Longitud: 3 --- palabras:['hoy']\n"
     ]
    }
   ],
   "source": [
    "def palabras_x_largo(texto):\n",
    "    texto_sep = texto.split(\" \")\n",
    "    dic = {}\n",
    "    for palabra in texto_sep:\n",
    "        if not (len(palabra) in dic):\n",
    "            dic[len(palabra)] = [palabra]\n",
    "        else:\n",
    "            dic[len(palabra)] += [palabra]\n",
    "    return dic\n",
    "\n",
    "texto = input()\n",
    "dic = palabras_x_largo(texto)\n",
    "for k,v in dic.items():\n",
    "    print(f'Longitud: {k} --- palabras:{v}')"
   ]
  },
  {
   "cell_type": "code",
   "execution_count": 94,
   "metadata": {},
   "outputs": [
    {
     "name": "stdout",
     "output_type": "stream",
     "text": [
      "[['U', 7, 18], ['F', 11, 15]]\n"
     ]
    }
   ],
   "source": [
    "#ej13\n",
    "def filtro_lista(lista, n):\n",
    "    nueva_lista = []\n",
    "    for ind, e in enumerate(lista):\n",
    "        if lista[ind][-1] <= n:\n",
    "            nueva_lista.append(lista[ind])\n",
    "    return nueva_lista\n",
    "\n",
    "def filtro_alt(lista,n):\n",
    "    return [lista[ind] for ind,e in enumerate(lista) if lista[ind][-1]<=n]\n",
    "\n",
    "n = int(input())\n",
    "lista =[[\"W\", 5, 31], [\"U\", 7, 18], [\"F\", 11, 15], [\"B\", 16, 28]]\n",
    "print(filtro_alt(lista,n))"
   ]
  },
  {
   "cell_type": "code",
   "execution_count": 97,
   "metadata": {},
   "outputs": [
    {
     "name": "stdout",
     "output_type": "stream",
     "text": [
      "False\n",
      "False\n",
      "False\n",
      "True\n",
      "False\n",
      "True\n"
     ]
    }
   ],
   "source": [
    "#ej14-a\n",
    "\n",
    "def condicion(lista):\n",
    "    if len(lista)<3:\n",
    "        return False\n",
    "    if (lista[1] < lista[2]) and ((lista[1]+lista[2])> 20):\n",
    "        return True\n",
    "    else:\n",
    "        return False\n",
    "\n",
    "print(condicion([1, 25])) # False\n",
    "print(condicion([1, 2, 3])) # False\n",
    "print(condicion([1, 10, 10])) # False\n",
    "print(condicion([1, 10, 11])) # True\n",
    "print(condicion([1, 10, 10, 10])) # False\n",
    "print(condicion([1, 10, 11, 10])) # True"
   ]
  },
  {
   "cell_type": "code",
   "execution_count": 99,
   "metadata": {},
   "outputs": [
    {
     "name": "stdout",
     "output_type": "stream",
     "text": [
      "[[1, 10, 11], [1, 10, 11, 10]]\n"
     ]
    }
   ],
   "source": [
    "#ej14-b\n",
    "def condicion(lista):\n",
    "    if len(lista)<3:\n",
    "        return False\n",
    "    if (lista[1] < lista[2]) and ((lista[1]+lista[2])> 20):\n",
    "        return True\n",
    "    else:\n",
    "        return False \n",
    "\n",
    "def filtrar(l: list, condicion):\n",
    "    return [elemento for elemento in l if condicion(elemento)]\n",
    "\n",
    "print(filtrar([[1, 25], [1, 2, 3], [1, 10, 10], [1, 10, 11], [1, 10, 10, 10], [1, 10, 11, 10]], condicion))\n",
    "\n"
   ]
  }
 ],
 "metadata": {
  "kernelspec": {
   "display_name": "Python 3",
   "language": "python",
   "name": "python3"
  },
  "language_info": {
   "codemirror_mode": {
    "name": "ipython",
    "version": 3
   },
   "file_extension": ".py",
   "mimetype": "text/x-python",
   "name": "python",
   "nbconvert_exporter": "python",
   "pygments_lexer": "ipython3",
   "version": "3.12.2"
  }
 },
 "nbformat": 4,
 "nbformat_minor": 2
}
