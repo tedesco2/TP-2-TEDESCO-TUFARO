{
 "cells": [
  {
   "cell_type": "code",
   "execution_count": 2,
   "metadata": {},
   "outputs": [
    {
     "name": "stdout",
     "output_type": "stream",
     "text": [
      "{0: 0, 1: 1, 2: 4, 3: 9, 4: 16, 5: 25}\n"
     ]
    }
   ],
   "source": [
    "#ej4\n",
    "num = int(input())\n",
    "dic = {num : num**2 for num in range(0,num)}\n",
    "print(dic)"
   ]
  },
  {
   "cell_type": "code",
   "execution_count": 5,
   "metadata": {},
   "outputs": [
    {
     "name": "stdout",
     "output_type": "stream",
     "text": [
      "{'o': 1, 'a': 3, 'l': 1, 'h': 3}\n",
      "{'h': 3, 'o': 1, 'l': 1, 'a': 3}\n"
     ]
    }
   ],
   "source": [
    "#ej5\n",
    "cadena = input()\n",
    "caracteres = [letra for letra in cadena]\n",
    "dic = {letra: caracteres.count(letra) for letra in list(set(caracteres))}\n",
    "print(dic)\n",
    "dic2 = {}\n",
    "for letra in caracteres:\n",
    "    if not (letra in dic2):\n",
    "        dic2[letra] = 1\n",
    "    else:\n",
    "        dic2[letra] += 1\n",
    "\n",
    "print(dic2)"
   ]
  },
  {
   "cell_type": "code",
   "execution_count": 11,
   "metadata": {},
   "outputs": [
    {
     "name": "stdout",
     "output_type": "stream",
     "text": [
      "no tenemos esa divisa\n"
     ]
    }
   ],
   "source": [
    "#ej6\n",
    "divisas = {'Euro':'€', 'Dollar':'$', 'Yen':'¥'}\n",
    "div = input(\"Que divisa quiere consultar:\")\n",
    "if not (div in divisas):\n",
    "    print(\"No tenemos esa divisa\")\n",
    "else: \n",
    "    print(divisas[div])\n"
   ]
  },
  {
   "cell_type": "code",
   "execution_count": 1,
   "metadata": {},
   "outputs": [
    {
     "name": "stdout",
     "output_type": "stream",
     "text": [
      "{'papa': 3, 'cebolla': 479, 'radicheta': 1}\n"
     ]
    }
   ],
   "source": [
    "#ej7 \n",
    "l = [ ('papa', 3), ('cebolla', 479),('radicheta', 1) ]\n",
    "dic = {key : valor for key,valor in l}\n",
    "print(dic)\n"
   ]
  },
  {
   "cell_type": "code",
   "execution_count": 27,
   "metadata": {},
   "outputs": [
    {
     "name": "stdout",
     "output_type": "stream",
     "text": [
      "{'Hola': ['don Pepito', 'don Jose'], 'Buenos': ['días']}\n"
     ]
    }
   ],
   "source": [
    "#ej8 \n",
    "l = [ ('Hola', 'don Pepito'), ('Hola', 'don Jose'),('Buenos', 'días') ]\n",
    "dic = {}\n",
    "for clave, valor in l:\n",
    "    if clave in dic:\n",
    "        dic[clave] += [valor]\n",
    "    else:\n",
    "        dic[clave] = [valor]\n",
    "print(dic)"
   ]
  },
  {
   "cell_type": "code",
   "execution_count": 45,
   "metadata": {},
   "outputs": [
    {
     "name": "stdout",
     "output_type": "stream",
     "text": [
      "{'Hola': ['don Pepito', 'don Jose'], 'Buenos': ['días']}\n"
     ]
    }
   ],
   "source": [
    "\n"
   ]
  },
  {
   "cell_type": "code",
   "execution_count": 54,
   "metadata": {},
   "outputs": [
    {
     "name": "stdout",
     "output_type": "stream",
     "text": [
      "['6', '6']\n",
      "['4', '5']\n",
      "['1', '5']\n",
      "Dado:1 --- frecuencia:1\n",
      "Dado:2 --- frecuencia:0\n",
      "Dado:3 --- frecuencia:0\n",
      "Dado:4 --- frecuencia:1\n",
      "Dado:5 --- frecuencia:2\n",
      "Dado:6 --- frecuencia:2\n"
     ]
    }
   ],
   "source": [
    "#ej9\n",
    "import random\n",
    "def freq_tiradas(n):\n",
    "    dado = ['1','2','3','4','5','6']\n",
    "    dic = {'1': 0 ,'2': 0 ,'3': 0 ,'4': 0 ,'5': 0 ,'6': 0}\n",
    "    for _ in range(n):\n",
    "        dados = [random.choice(dado) for _ in range(2)]\n",
    "        print(dados)\n",
    "        for valor in dados:\n",
    "            dic [valor] +=1\n",
    "    return dic\n",
    "\n",
    "n = int(input(\"numero de tiradas\"))\n",
    "dic = freq_tiradas(n)\n",
    "for dado,freq in dic.items():\n",
    "    print(f'Dado:{dado} --- frecuencia:{freq}')\n",
    "\n"
   ]
  },
  {
   "cell_type": "code",
   "execution_count": 6,
   "metadata": {},
   "outputs": [
    {
     "name": "stdout",
     "output_type": "stream",
     "text": [
      "Tufa: 23413241\n",
      "Tomi: 2342341\n"
     ]
    }
   ],
   "source": [
    "#ej10\n",
    "agenda = {}\n",
    "while True:\n",
    "    nombre = input(\"Ingrese un nombre: \").capitalize()\n",
    "    if nombre == \"*\":\n",
    "        break\n",
    "    elif not (nombre in agenda):\n",
    "        num = input(f'Ingrese el numero de {nombre}')\n",
    "        agenda[nombre] = num\n",
    "    elif nombre in agenda:\n",
    "        cambiar = input(f'El nombre ya esta ingresado con el numero {agenda[nombre]}. Desea cambiarlo (si/no)')\n",
    "        if cambiar.lower() == \"si\":\n",
    "            nuevo_num = input(f'Ingrese el nuevo numero para {nombre}')\n",
    "            agenda[nombre] = nuevo_num\n",
    "        else:\n",
    "            continue\n",
    "for nombre, num in agenda.items():\n",
    "    print(f'{nombre}: {num}')\n"
   ]
  },
  {
   "cell_type": "code",
   "execution_count": 62,
   "metadata": {},
   "outputs": [
    {
     "name": "stdout",
     "output_type": "stream",
     "text": [
      "{'0110100': 1, '1011010': 0, '1111110': 0, '1111100': 1, '1111000': 0, '1110000': 1, '11000000': 0, '1000000': 1}\n"
     ]
    }
   ],
   "source": [
    "#ej11\n",
    "def bit_paridad(bits):\n",
    "    dic = {}\n",
    "    for bit in bits:\n",
    "        list_bit = [num for num in bit]\n",
    "        if list_bit.count(\"1\") % 2 == 0:\n",
    "            dic[bit] = 0\n",
    "        else:\n",
    "            dic[bit] = 1\n",
    "    return dic\n",
    "\n",
    "bits = [\"0110100\",\"1011010\",\"1111110\",\"1111100\",\"1111000\",\"1110000\",\"11000000\",\"1000000\"]\n",
    "print(bit_paridad(bits))"
   ]
  },
  {
   "cell_type": "code",
   "execution_count": 2,
   "metadata": {},
   "outputs": [
    {
     "name": "stdout",
     "output_type": "stream",
     "text": [
      "Debes usar C y A\n"
     ]
    }
   ],
   "source": [
    "#ej12\n",
    "def lineas_por_estacion(subtes,estaciones):\n",
    "    estacion = input(\"Que estacion quiere consultar\")\n",
    "    l = []\n",
    "    for linea, est in estaciones.items():\n",
    "        if estacion in est:\n",
    "            l.append(linea)\n",
    "    return l\n",
    "\n",
    "def lineas_x_estacion(subtes,estaciones):\n",
    "    estacion = input(\"Que estacion quiere consultar\")\n",
    "    return [linea for linea,est in estaciones.items() if estacion in est]\n",
    "\n",
    "def rutas(subtes,estaciones):\n",
    "    origen = input(\"De donde va a salir\")\n",
    "    destino = input(\"A donde se dirige\")\n",
    "    for linea, est in estaciones.items():\n",
    "        if origen in est and destino in est:\n",
    "            return f'Debes usar la linea {linea}'\n",
    "        \n",
    "    posible_origen = [linea for linea,est in estaciones.items() if origen in est]\n",
    "    for origen in posible_origen:\n",
    "        for linea,est in estaciones.items():\n",
    "            for e in estaciones[origen]:\n",
    "                if destino in est and e in est:\n",
    "                    return f'Debes usar {origen} y {linea}'\n",
    "    \n",
    "    \n",
    "\n",
    "\n",
    "subtes = [\"A\", \"C\", \"D\", \"E\"]\n",
    "estaciones = {\n",
    "    \"A\": [\"Acoyte\", \"Avenida de Mayo\", \"Callao\"],\n",
    "    \"C\": [\"Avenida de Mayo\", \"Congreso\", \"Urquiza\"],\n",
    "    \"D\": [\"Pellegrini\", \"Urquiza\", \"Callao\"],\n",
    "    \"E\": [\"Pellegrini\", \"Lima\", \"Avenida de Mayo\"]\n",
    "}\n",
    "#print(lineas_x_estacion(subtes,estaciones))\n",
    "print(rutas(subtes,estaciones))"
   ]
  }
 ],
 "metadata": {
  "kernelspec": {
   "display_name": "Python 3",
   "language": "python",
   "name": "python3"
  },
  "language_info": {
   "codemirror_mode": {
    "name": "ipython",
    "version": 3
   },
   "file_extension": ".py",
   "mimetype": "text/x-python",
   "name": "python",
   "nbconvert_exporter": "python",
   "pygments_lexer": "ipython3",
   "version": "3.12.2"
  }
 },
 "nbformat": 4,
 "nbformat_minor": 2
}
