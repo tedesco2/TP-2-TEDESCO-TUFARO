{
 "cells": [
  {
   "cell_type": "code",
   "execution_count": 27,
   "metadata": {},
   "outputs": [
    {
     "name": "stdout",
     "output_type": "stream",
     "text": [
      "Resultado  2\n",
      "Resultado  3.0\n"
     ]
    }
   ],
   "source": [
    "def suma(*args):\n",
    "    return sum(args)\n",
    "\n",
    "def resta(x,y):\n",
    "    return x - y\n",
    "\n",
    "def producto(x,y):\n",
    "    return x*y\n",
    "\n",
    "def division(x,y):\n",
    "    return round(x/y,2)\n",
    "\n",
    "def main():\n",
    "    while True:\n",
    "        op = int(input(\"Que operacion vas a hacer:\\n1-suma\\n2-resta\\n3-producto\\n4-division\\n5-Salir\"))\n",
    "        if op == 1:\n",
    "            x = input(\"Ingrese un valor o ans\")\n",
    "            x = ans if x == \"ans\" else int(x)\n",
    "            y = input(\"Ingrese un valor\")\n",
    "            y = ans if y == \"ans\" else int(y)\n",
    "            ans = suma(x,y)\n",
    "            print(\"Resultado\",ans)\n",
    "        elif op == 2:\n",
    "            x = input(\"Ingrese un valor o ans\")\n",
    "            x = ans if x == \"ans\" else int(x)\n",
    "            y = input(\"Ingrese un valor\")\n",
    "            y = ans if y == \"ans\" else int(y)\n",
    "            ans = resta(x,y)\n",
    "            print(\"Resultado \",ans)\n",
    "        elif op == 3:\n",
    "            x = input(\"Ingrese un valor o ans\")\n",
    "            x = ans if x == \"ans\" else int(x)\n",
    "            y = input(\"Ingrese un valor\")\n",
    "            y = ans if y == \"ans\" else int(y)\n",
    "            ans = producto(x,y)\n",
    "            print(\"Resultado \",ans)\n",
    "        elif op == 4:\n",
    "            x = input(\"Ingrese un valor o ans\")\n",
    "            x = ans if x == \"ans\" else int(x)\n",
    "            y = input(\"Ingrese un valor\")\n",
    "            y = ans if y == \"ans\" else int(y)\n",
    "            ans = division(x,y)\n",
    "            print(\"Resultado \",ans)\n",
    "        else:\n",
    "            break \n",
    "\n",
    "main()"
   ]
  },
  {
   "cell_type": "code",
   "execution_count": 10,
   "metadata": {},
   "outputs": [
    {
     "name": "stdout",
     "output_type": "stream",
     "text": [
      "{2: ['El', 'la', 'de', 'la', 'ah'], 4: ['amor'], 3: ['por', 'que', 'nos', 'esa', 'que', 'los', 'han', 'nos', 'ya.'], 6: ['verdad', 'muchas'], 9: ['conducira', 'veracidad', 'filosofos', 'problemas', 'planteado'], 5: ['hacia', 'todos'], 10: ['peligrosas', 'aventuras,', 'famosisima'], 7: ['hablado', 'siempre', 'cuantos'], 16: ['respetuosamente,']}\n"
     ]
    }
   ],
   "source": [
    "texto  = \"El amor por la verdad que nos conducira hacia muchas peligrosas aventuras, esa famosisima veracidad de la que todos los filosofos han hablado siempre respetuosamente, cuantos problemas nos ah planteado ya.\"\n",
    "lista = texto.split(\" \")\n",
    "dic = {}\n",
    "for palabra in lista:\n",
    "    if not (len(palabra) in dic):\n",
    "        dic[len(palabra)] = [palabra]\n",
    "    else: \n",
    "        dic[len(palabra)] += [palabra]\n",
    "\n",
    "print(dic)\n",
    "\n"
   ]
  },
  {
   "cell_type": "code",
   "execution_count": 51,
   "metadata": {},
   "outputs": [
    {
     "name": "stdout",
     "output_type": "stream",
     "text": [
      "{'dog': 2, 'triceratops': 1, 'persian cat': 3, 'large white fluffy thing': 1}\n"
     ]
    }
   ],
   "source": [
    "def make_dictionary(texto):\n",
    "    dic = {}\n",
    "    lista = texto.split(\"\\n\")\n",
    "    for palabra in lista:\n",
    "        if not (palabra in dic):\n",
    "            dic[palabra] = 1\n",
    "        else:\n",
    "            dic[palabra] += 1\n",
    "    return dic\n",
    "\n",
    "texto = \"dog\\ntriceratops\\npersian cat\\ndog\\npersian cat\\nlarge white fluffy thing\\npersian cat\"\n",
    "\n",
    "print(make_dictionary(texto))\n"
   ]
  },
  {
   "cell_type": "code",
   "execution_count": 35,
   "metadata": {},
   "outputs": [
    {
     "name": "stdout",
     "output_type": "stream",
     "text": [
      "1\n"
     ]
    }
   ],
   "source": [
    "def num_rushes(dist,avance,retroceso):\n",
    "    recorrido = 0\n",
    "    avances = 0\n",
    "    while True:\n",
    "        avances += 1\n",
    "        recorrido += avance\n",
    "        if recorrido >= dist:\n",
    "            break\n",
    "        else:\n",
    "            recorrido -= retroceso\n",
    "        \n",
    "    return avances\n",
    "\n",
    "print(num_rushes(10,10,0))"
   ]
  },
  {
   "cell_type": "code",
   "execution_count": 46,
   "metadata": {},
   "outputs": [
    {
     "name": "stdout",
     "output_type": "stream",
     "text": [
      "[[1, 3, -1, 2], [1, -1, -1, 2]]\n"
     ]
    }
   ],
   "source": [
    "def contadoMinas(campo):\n",
    "    minas = campo.copy()\n",
    "    for x,fila in enumerate(campo):         #i es indice de filas (ancho)\n",
    "        for y,casilla in enumerate(fila):   #j es indice de columnas (alto)\n",
    "            if campo[x][y] == -1:\n",
    "                minas[x][y] == -1\n",
    "            else:\n",
    "                mins_alrededor = 0\n",
    "                for i in range(-1,2):\n",
    "                    for j in range(-1,2):\n",
    "                        if (0 <= x+i < len(campo)) and (0 <= y+j < len(fila)):\n",
    "                            if campo[x+i][y+j] == -1:\n",
    "                                mins_alrededor += 1\n",
    "                minas[x][y] = mins_alrededor\n",
    "    return minas\n",
    "                        \n",
    "                        \n",
    "\n",
    "\n",
    "campo = [[0,0,-1,0],\n",
    "         [0,-1,-1,0]]\n",
    "\n",
    "print(contadoMinas(campo))\n"
   ]
  },
  {
   "cell_type": "code",
   "execution_count": 50,
   "metadata": {},
   "outputs": [
    {
     "name": "stdout",
     "output_type": "stream",
     "text": [
      "0 0\n",
      "0 15\n",
      "0 30\n",
      "0 40\n",
      "15 40\n",
      "30 40\n",
      "40 40\n",
      "Adv 40\n",
      "40 40\n",
      "40 Adv\n",
      "Gana el jugador 2\n"
     ]
    }
   ],
   "source": [
    "j1 = 0\n",
    "j2 = 0\n",
    "while True:\n",
    "    entrada = int(input()) #quien gano\n",
    "    print(j1, j2)\n",
    "    if j2 == \"Adv\" and entrada == 2:\n",
    "        print(\"Gana el jugador 2\")\n",
    "        break\n",
    "    if j2 == \"Adv\" and entrada == 1:\n",
    "        j2 = 40\n",
    "        continue\n",
    "    if j1 == \"Adv\" and entrada == 1:\n",
    "        print(\"Gana el jugador 1\")\n",
    "        break\n",
    "    if j1 == \"Adv\" and entrada == 2:\n",
    "        j1 = 40\n",
    "        continue\n",
    "    \n",
    "    if entrada == 1 and j1 == 40 and j2 == 40:\n",
    "        j1 = \"Adv\"\n",
    "        continue\n",
    "    if entrada == 1 and j1 == 40 and j2 != 40:\n",
    "        print(\"Gana el jugador 1\")\n",
    "        break\n",
    "    if entrada == 2 and j2 == 40 and j1 == 40:\n",
    "        j2 = \"Adv\"\n",
    "        continue\n",
    "    if entrada == 2 and j2 == 40 and j1 != 40:\n",
    "        print(\"Gana el jugador 2\")\n",
    "        break\n",
    "\n",
    "    \n",
    "    if entrada == 1 and j1 < 30:\n",
    "        j1 +=15\n",
    "    elif entrada == 1 and j1 == 30:\n",
    "        j1+= 10\n",
    "    elif entrada == 2 and j2 <30:\n",
    "        j2 += 15\n",
    "    elif entrada == 2 and j2 == 30:\n",
    "        j2 += 10\n",
    "        continue\n",
    "    \n",
    "    "
   ]
  },
  {
   "cell_type": "code",
   "execution_count": 57,
   "metadata": {},
   "outputs": [
    {
     "name": "stdout",
     "output_type": "stream",
     "text": [
      "{45308349: 10.0, 46219715: 1.0, 38215070: 2.0}\n"
     ]
    }
   ],
   "source": [
    "\n",
    "\n",
    "# Función que debemos desarrollar en este ejercicio\n",
    "def crear_chombitos(lista_tickets):\n",
    "    dic = {}\n",
    "    for ticket in lista_tickets:\n",
    "        if not (ticket[\"DNI\"] in dic):\n",
    "          dic[ticket[\"DNI\"]] = (ticket[\"monto\"]//2000)\n",
    "        else:\n",
    "          dic[ticket[\"DNI\"]] += (ticket[\"monto\"]//2000)\n",
    "    return dic\n",
    "\n",
    "lista_tickets = [ { \"DNI\": 45308349, \"fecha\": \"2023-05-23 13:19:40\", \"monto\": 19948.73},\n",
    "{ \"DNI\": 46219715, \"fecha\": \"2023-06-12 14:01:32\", \"monto\": 2576.20},\n",
    "{ \"DNI\": 45308349, \"fecha\": \"2023-05-23 13:19:40\", \"monto\": 3108.21},\n",
    "{ \"DNI\": 38215070, \"fecha\": \"2023-12-19 10:48:51\", \"monto\": 4126.00}\n",
    "                    ]\n",
    "resultado = crear_chombitos(lista_tickets)\n",
    "\n",
    "print(resultado)"
   ]
  }
 ],
 "metadata": {
  "kernelspec": {
   "display_name": "Python 3",
   "language": "python",
   "name": "python3"
  },
  "language_info": {
   "codemirror_mode": {
    "name": "ipython",
    "version": 3
   },
   "file_extension": ".py",
   "mimetype": "text/x-python",
   "name": "python",
   "nbconvert_exporter": "python",
   "pygments_lexer": "ipython3",
   "version": "3.12.2"
  }
 },
 "nbformat": 4,
 "nbformat_minor": 2
}
