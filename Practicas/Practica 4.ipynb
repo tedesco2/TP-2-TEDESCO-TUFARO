{
 "cells": [
  {
   "cell_type": "markdown",
   "metadata": {
    "isInteractiveWindowMessageCell": true
   },
   "source": [
    "Connected to Python 3.12.2"
   ]
  },
  {
   "cell_type": "code",
   "execution_count": 3,
   "metadata": {},
   "outputs": [
    {
     "name": "stdout",
     "output_type": "stream",
     "text": [
      "0 2 4 6 8 10 12 14 16 18 20 22 24 26 28 30 32 34 36 38 40 42 44 46 48 50 52 54 56 58 60 62 64 66 68 70 72 74 76 78 80 82 84 86 88 90 92 94 96 98 100\n"
     ]
    }
   ],
   "source": [
    "#3\n",
    "lista_pares = []\n",
    "for i in range(101):\n",
    "\tif i % 2 == 0:\n",
    "\t\tlista_pares +=[i]\n",
    "print(*lista_pares)"
   ]
  },
  {
   "cell_type": "code",
   "execution_count": 4,
   "metadata": {},
   "outputs": [
    {
     "name": "stdout",
     "output_type": "stream",
     "text": [
      "Los numeros multiplos son: [0, 10, 20, 30, 40, 50, 60, 70, 80, 90]\n"
     ]
    }
   ],
   "source": [
    "#4\n",
    "A = int(input('De el inicio del rango:'))\n",
    "B = int(input('De el final del rango:'))\n",
    "C = int(input('Primer valor de multiplo'))\n",
    "D = int(input('Segundo valor de multiplo'))\n",
    "lista_multiplos = []\n",
    "\n",
    "for e in range(A,B,1):\n",
    "\tif e % C == 0 and e % D == 0:\n",
    "\t\tlista_multiplos += [e]\n",
    "print('Los numeros multiplos son:',lista_multiplos)\n"
   ]
  },
  {
   "cell_type": "code",
   "execution_count": 9,
   "metadata": {},
   "outputs": [
    {
     "name": "stdout",
     "output_type": "stream",
     "text": [
      "24\n"
     ]
    }
   ],
   "source": [
    "#5\n",
    "A = int(input('De el inicio del rango:'))\n",
    "B = int(input('De el final del rango:'))\n",
    "prod = 0\n",
    "for e in range(A):\n",
    "\tprod += B\n",
    "\n",
    "print(prod)\n",
    "\t\n"
   ]
  },
  {
   "cell_type": "code",
   "execution_count": 20,
   "metadata": {},
   "outputs": [
    {
     "name": "stdout",
     "output_type": "stream",
     "text": [
      "El factorial es 0\n"
     ]
    }
   ],
   "source": [
    "#7 - Factorial de un numero\n",
    "N = int(input(\"Introduzca un numero\"))\n",
    "fact = 1\n",
    "\n",
    "if N == 0:\n",
    "    print(\"El factorial es 1\")\n",
    "elif N > 0:\n",
    "    for e in range(1,N+1):\n",
    "        fact = fact*e\n",
    "    print(\"El factorial es:\",fact)\n",
    "else:\n",
    "    print(\"Error! N debe ser mayor a 0\")"
   ]
  },
  {
   "cell_type": "code",
   "execution_count": 24,
   "metadata": {},
   "outputs": [
    {
     "name": "stdout",
     "output_type": "stream",
     "text": [
      "No hay impares en la lista\n"
     ]
    }
   ],
   "source": [
    "#10\n",
    "lista = []\t\n",
    "lista_impares= []\n",
    "\n",
    "for e in range(10):\n",
    "\tnum = int(input('Ingrese un número'))\n",
    "\tlista += [num]\n",
    "\n",
    "impar = False\n",
    "for e in lista:\n",
    "\tif e%2 !=0:\n",
    "\t\tlista_impares += [e]\n",
    "\n",
    "if lista_impares:\n",
    "\timpar_mayor = lista_impares[0]\n",
    "\tfor i in lista_impares:\n",
    "\t\tif i > impar_mayor:\n",
    "\t\t\timpar_mayor = i\n",
    "\tprint('El impar mayor de la lista es:',impar_mayor)\n",
    "else: \n",
    "\tprint('No hay impares en la lista')\n",
    "\t\t\n"
   ]
  },
  {
   "cell_type": "code",
   "execution_count": 34,
   "metadata": {},
   "outputs": [
    {
     "name": "stdout",
     "output_type": "stream",
     "text": [
      "El numero es primo\n"
     ]
    }
   ],
   "source": [
    "#12\n",
    "N  = int(input('Escriba un numero entre 1 y 100'))\n",
    "primo = True\n",
    "if 1 < N <= 100:\n",
    "\tfor i in range(2,N):\n",
    "\t\tif N % i == 0:\n",
    "\t\t\tprimo = False\n",
    "\tif primo == True:\n",
    "\t\tprint('El numero es primo')\n",
    "\telse:\n",
    "\t\tprint('El numero no es primo')\n",
    "else:\n",
    "\tprint('El parametro N no esta entre 1 y 100')\n"
   ]
  },
  {
   "cell_type": "code",
   "execution_count": 38,
   "metadata": {},
   "outputs": [
    {
     "name": "stdout",
     "output_type": "stream",
     "text": [
      "Farenheit\tCelsius\n",
      "0 \t\t -17.78\n",
      "1 \t\t -17.22\n",
      "2 \t\t -16.67\n",
      "3 \t\t -16.11\n",
      "4 \t\t -15.56\n",
      "5 \t\t -15.0\n",
      "6 \t\t -14.44\n",
      "7 \t\t -13.89\n",
      "8 \t\t -13.33\n",
      "9 \t\t -12.78\n",
      "10 \t\t -12.22\n",
      "11 \t\t -11.67\n",
      "12 \t\t -11.11\n",
      "13 \t\t -10.56\n",
      "14 \t\t -10.0\n",
      "15 \t\t -9.44\n",
      "16 \t\t -8.89\n",
      "17 \t\t -8.33\n",
      "18 \t\t -7.78\n",
      "19 \t\t -7.22\n"
     ]
    }
   ],
   "source": [
    "#14\n",
    "t_inicial = int(input('Ingrese la temperatura incial'))\n",
    "t_final = int(input('Ingrese la temperatura final'))\n",
    "paso = int(input('Ingrese el paso de conversion'))\n",
    "temps = []\n",
    "print('Farenheit\tCelsius')\n",
    "for i in range(t_inicial, t_final, paso):\n",
    "\tcelcs = round((i - 32) * (5/9),2)\n",
    "\tprint(i,'\\t\\t',celcs)\n"
   ]
  },
  {
   "cell_type": "code",
   "execution_count": 82,
   "metadata": {},
   "outputs": [
    {
     "name": "stdout",
     "output_type": "stream",
     "text": [
      "Ganaste\n"
     ]
    }
   ],
   "source": [
    "#17 piedra papel o tijera vs computadora\n",
    "import random\n",
    "\n",
    "eleccion_usuario = input('Elegí entre piedra, papel, o tijera')\n",
    "ppt = ['piedra','papel','tijera']\n",
    "eleccion_pc = random.choice(ppt)\n",
    "\n",
    "if eleccion_usuario not in ppt:\n",
    "\tprint('Error! vuelve a elegir')\t\n",
    "else:\n",
    "    if eleccion_usuario == eleccion_pc:\n",
    "        print('Empate')\n",
    "    elif eleccion_usuario == 'piedra' and eleccion_pc == 'papel':\n",
    "        print('Gano la computadora')\n",
    "    elif eleccion_usuario == 'piedra' and eleccion_pc == 'tijera':\n",
    "        print('Ganaste')\n",
    "    elif eleccion_usuario == 'papel' and eleccion_pc == 'piedra':\n",
    "        print('Ganaste')\n",
    "    elif eleccion_usuario == 'papel' and eleccion_pc == 'tijera':\n",
    "        print('Gano la computadora')\n",
    "    elif eleccion_usuario == 'tijera' and eleccion_pc == 'piedra':\n",
    "        print('Gano la computadora')\n",
    "    elif eleccion_usuario ==  'tijera' and eleccion_pc == 'papel':\n",
    "        print('Ganaste')\n"
   ]
  },
  {
   "cell_type": "code",
   "execution_count": 62,
   "metadata": {},
   "outputs": [
    {
     "name": "stdout",
     "output_type": "stream",
     "text": [
      "Patricio\n",
      "Guillermo\n",
      "Agustin\n"
     ]
    }
   ],
   "source": [
    "#18\n",
    "mi_dic = {\n",
    "    'Roberto': 5,\n",
    "    'Patricio': 24,\n",
    "    'Tadeo': -11,\n",
    "    'Guillermo': 245,\n",
    "    'Agustin': 32,\n",
    "    'Gabriel': 10,\n",
    "    'Santiago': -1\n",
    "}\n",
    "\n",
    "for e in mi_dic:\n",
    "    if mi_dic[e] > 10:\n",
    "\t    print(e)\n"
   ]
  },
  {
   "cell_type": "code",
   "execution_count": 68,
   "metadata": {},
   "outputs": [
    {
     "name": "stdout",
     "output_type": "stream",
     "text": [
      "-4\n"
     ]
    }
   ],
   "source": [
    "#19\n",
    "mi_lista = [5, 24, -1, 245, 32, 9,15,-4,2]\n",
    "\n",
    "min = mi_lista[0]\n",
    "\n",
    "for e in mi_lista:\n",
    "\tif e < min:\n",
    "\t\tmin = e\n",
    "\t\n",
    "print(min)\n"
   ]
  },
  {
   "cell_type": "code",
   "execution_count": 81,
   "metadata": {},
   "outputs": [
    {
     "name": "stdout",
     "output_type": "stream",
     "text": [
      "Esta en la posicion 5\n"
     ]
    }
   ],
   "source": [
    "#20\n",
    "valor = 9\n",
    "mi_lista = [5, 24, -1, 245, 32, 9]\n",
    "\n",
    "if valor in mi_lista:\n",
    "    for e in range(len(mi_lista)):\n",
    "        if mi_lista[e] == valor:\n",
    "            print('Esta en la posicion',e)\n",
    "else:\n",
    "    print(\"El valor no esta en la lista\")"
   ]
  },
  {
   "cell_type": "code",
   "execution_count": 102,
   "metadata": {},
   "outputs": [
    {
     "name": "stdout",
     "output_type": "stream",
     "text": [
      "\n",
      "Tu numero ahora es: 9 4 3 2\n",
      "El 1 ° digito es correcto pero esta en la posiscion incorrecta\n",
      "El 2 ° digito no es correcto\n",
      "El 3 ° digito no es correcto\n",
      "El 4 ° digito no es correcto\n",
      "\n",
      "Tu numero ahora es: 1 9 5 6\n",
      "El 1 ° digito no es correcto\n",
      "El 2 ° digito es correcto pero esta en la posiscion incorrecta\n",
      "El 3 ° digito no es correcto\n",
      "El 4 ° digito es correcto pero esta en la posiscion incorrecta\n",
      "\n",
      "Tu numero ahora es: 7 6 9 8\n",
      "El 1 ° digito no es correcto\n",
      "El 2 ° digito es correcto pero esta en la posiscion incorrecta\n",
      "El 3 ° digito es correcto y esta en la posicion correcta\n",
      "El 4 ° digito es correcto y esta en la posicion correcta\n",
      "\n",
      "Tu numero ahora es: 6 0 9 8\n",
      "El 1 ° digito es correcto y esta en la posicion correcta\n",
      "El 2 ° digito no es correcto\n",
      "El 3 ° digito es correcto y esta en la posicion correcta\n",
      "El 4 ° digito es correcto y esta en la posicion correcta\n",
      "\n",
      "Tu numero ahora es: 6 0 9 8\n",
      "El 1 ° digito es correcto y esta en la posicion correcta\n",
      "El 2 ° digito no es correcto\n",
      "El 3 ° digito es correcto y esta en la posicion correcta\n",
      "El 4 ° digito es correcto y esta en la posicion correcta\n",
      "Adivinaste!\n"
     ]
    }
   ],
   "source": [
    "import random\n",
    "import os\n",
    "numeros = [1,2,3,4,5,6,7,8,9]\n",
    "num_correcto = []\n",
    "num_usuario = []\n",
    "for i in range(4):\n",
    "    num = random.choice(numeros)\n",
    "    num_correcto += [num]\n",
    "\n",
    "usuario = input('Introduce un numero de 4 cifras')\n",
    "\n",
    "if len(usuario) != 4:\n",
    "    raise ValueError(\"El numero tiene que ser de 4 cifras\")\n",
    "for i in usuario:\n",
    "    num_usuario += [int(i)]\n",
    "\n",
    "\n",
    "while num_correcto != num_usuario:\n",
    "    print(\"\")\n",
    "    print(\"Tu numero ahora es:\",*num_usuario)\n",
    "    posicion = 0\n",
    "    for i in range(4):\n",
    "            posicion +=1\n",
    "            if num_usuario[i] in num_correcto:\n",
    "                if num_usuario[i] == num_correcto[i]:\n",
    "                    print(\"El\",posicion,\"°\",\"digito es correcto y esta en la posicion correcta\")\n",
    "                else:\n",
    "                    print(\"El\",posicion,\"°\",\"digito es correcto pero esta en la posiscion incorrecta\")\n",
    "            else:\n",
    "                print(\"El\",posicion,\"°\",\"digito no es correcto\")\n",
    "\n",
    "    usuario = input('Introduce un nuevo numero de 4 cifras')\n",
    "    num_usuario = []\n",
    "    if len(usuario) != 4:\n",
    "        raise ValueError(\"El numero tiene que ser de 4 cifras\")\n",
    "    for i in usuario:\n",
    "        num_usuario += [int(i)]\n",
    "    os.system('cls')\n",
    "\n",
    "print(\"Adivinaste! el numero era: \",num_usuario)\n",
    "    \n",
    "\n",
    "\n",
    "\n",
    "    \n"
   ]
  },
  {
   "cell_type": "code",
   "execution_count": 19,
   "metadata": {},
   "outputs": [
    {
     "name": "stdout",
     "output_type": "stream",
     "text": [
      "Puntaje del 1° jugador: 25 \n",
      "Puntaje del 2° jugador 10\n",
      "Gano el jugador 1\n"
     ]
    }
   ],
   "source": [
    "import random\n",
    "dado = [1,2,3,4,5,6] #Lista con valores del dado\n",
    "\n",
    "\n",
    "\n",
    "#Puntaje 1° jugador\n",
    "input(\"Jugador 1, presione una tecla para tirar el dado\")\n",
    "dado1 = random.choice(dado) #Tira el primer dado\n",
    "input(\"Jugador 1 presione una tecla para tirar el dado nuevamente\")\n",
    "dado2 = random.choice(dado) #Tira el segundo dado\n",
    "puntaje_j1 = dado1 + dado2 #Suma el puntaje\n",
    "while dado1 == dado2: #Si los dados son iguales que vuelva a tirar y lo suma al puntaje total\n",
    "    input(\"Jugador 1, presione una tecla para tirar el dado\")\n",
    "    dado1 = random.choice(dado)\n",
    "    input(\"Jugador 1 presione una tecla para tirar el dado nuevamente\")\n",
    "    dado2 = random.choice(dado)\n",
    "    puntaje_j1 +=(dado1+dado2)\n",
    "\n",
    "#Puntaje 2° jugador\n",
    "input(\"Jugador 2, presione una tecla para tirar el dado\")\n",
    "dado3 = random.choice(dado) #Tira el primer dado\n",
    "input(\"Jugador 2 presione una tecla para tirar el dado nuevamente\")\n",
    "dado4 = random.choice(dado) #Tira el segundo dado\n",
    "puntaje_j2 = dado3 + dado4 #Suma el puntaje\n",
    "while dado1 == dado2: #Si los dados son iguales que vuelva a tirar y lo suma al puntaje total\n",
    "    input(\"Jugador 2, presione una tecla para tirar el dado\")\n",
    "    dado3 = random.choice(dado)\n",
    "    input(\"Jugador 2 presione una tecla para tirar el dado nuevamente\")\n",
    "    dado4 = random.choice(dado)\n",
    "    puntaje_j2 +=(dado3+dado4)\n",
    "\n",
    "print(\"Puntaje del 1° jugador:\",puntaje_j1,\"\\nPuntaje del 2° jugador\",puntaje_j2)\n",
    "if puntaje_j2 == puntaje_j1:\n",
    "    print(\"hubo un empate\")\n",
    "elif puntaje_j1 > puntaje_j2:\n",
    "    print(\"Gano el jugador 1\")\n",
    "elif puntaje_j1 < puntaje_j2:\n",
    "    print(\"Gano el jugador 2\")"
   ]
  }
 ],
 "metadata": {
  "kernelspec": {
   "display_name": "Python 3",
   "language": "python",
   "name": "python3"
  },
  "language_info": {
   "codemirror_mode": {
    "name": "ipython",
    "version": 3
   },
   "file_extension": ".py",
   "mimetype": "text/x-python",
   "name": "python",
   "nbconvert_exporter": "python",
   "pygments_lexer": "ipython3",
   "version": "3.12.2"
  }
 },
 "nbformat": 4,
 "nbformat_minor": 2
}
