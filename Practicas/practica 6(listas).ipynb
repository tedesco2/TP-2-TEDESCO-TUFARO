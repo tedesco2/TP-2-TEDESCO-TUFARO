{
 "cells": [
  {
   "cell_type": "code",
   "execution_count": 9,
   "metadata": {},
   "outputs": [
    {
     "name": "stdout",
     "output_type": "stream",
     "text": [
      "[3, 1, 3, 1, 9, 2, 6, 3]\n"
     ]
    }
   ],
   "source": [
    "#ej1\n",
    "lista = [3, 1, 3, 1, 5, 9, 2,5,5,5,5,5,5, 6, 5, 3, 5]\n",
    "while 5 in lista:\n",
    "    lista.remove(5)\n",
    "print(lista)\n"
   ]
  },
  {
   "cell_type": "code",
   "execution_count": 16,
   "metadata": {},
   "outputs": [
    {
     "name": "stdout",
     "output_type": "stream",
     "text": [
      "[1, 2, 3, 4, 5, 6, 7, 8, 9]\n",
      "[1, 2, 3, 4, 5, 6, 7, 8, 9]\n"
     ]
    }
   ],
   "source": [
    "#ej2\n",
    "def elimina_duplicados(lista):\n",
    "    for e in lista:\n",
    "        while lista.count(e) > 1:\n",
    "            lista.remove(e)\n",
    "    return lista\n",
    "\n",
    "lista = [1,1,1,2,2,2,3,3,3,4,4,4,5,5,5,6,6,6,7,7,7,8,8,8,9,9,9]\n",
    "print(list(set(lista)))\n",
    "print(elimina_duplicados(lista))"
   ]
  },
  {
   "cell_type": "code",
   "execution_count": 25,
   "metadata": {},
   "outputs": [
    {
     "name": "stdout",
     "output_type": "stream",
     "text": [
      "[15, 20, 22, 20, 17]\n"
     ]
    }
   ],
   "source": [
    "#ej3\n",
    "temp_diarias = [15, 20, 21, 21, 21, 20, 17]\n",
    "temp_diarias_copia = temp_diarias.copy()\n",
    "temp_diarias_copia[2:4] = [22, 22]\n",
    "print(temp_diarias_copia)"
   ]
  },
  {
   "cell_type": "code",
   "execution_count": 27,
   "metadata": {},
   "outputs": [
    {
     "name": "stdout",
     "output_type": "stream",
     "text": [
      "['casa', 'perro', 'mate']\n"
     ]
    }
   ],
   "source": [
    "#ej4\n",
    "def terminan_vocal(lista):\n",
    "    vocales = [\"a\",\"e\",\"i\",\"o\",\"u\"]\n",
    "    nueva_lista = [palabra for palabra in lista if palabra[-1] in vocales]\n",
    "    return nueva_lista\n",
    "\n",
    "lista = [\"avion\",\"casa\",\"perro\",\"mate\",\"monitor\"]\n",
    "print(terminan_vocal(lista))"
   ]
  },
  {
   "cell_type": "code",
   "execution_count": 1,
   "metadata": {},
   "outputs": [
    {
     "name": "stdout",
     "output_type": "stream",
     "text": [
      "13 30\n"
     ]
    }
   ],
   "source": [
    "#ej5\n",
    "lista1 = \"TAGGTTAATGGGCCATTTTCGGCACCCTAGGTAGCTTATT\"\n",
    "lista2 = \"ACCATACTATGGTTTTTCCTAAGCGATTGGCATTTTCTTG\"\n",
    "\n",
    "long_max = 0\n",
    "indice_lista1 = 0\n",
    "indice_lista2 = 0\n",
    "for i in range(len(lista1)):\n",
    "    for j in range(len(lista2)):\n",
    "        k = 0\n",
    "        while (i + k) < len(lista1) and (j+k) < len(lista2) and lista1[i+k] == lista2[j+k]:\n",
    "            k+=1\n",
    "        if k > long_max:\n",
    "            long_max = k\n",
    "            indice_lista1 = i\n",
    "            indice_lista2 = j\n",
    "\n",
    "print(indice_lista1,indice_lista2)"
   ]
  },
  {
   "cell_type": "code",
   "execution_count": 2,
   "metadata": {},
   "outputs": [
    {
     "name": "stdout",
     "output_type": "stream",
     "text": [
      "tus contactos:  ['dai', 'tomi', 'tomi', 'tufa', 'tomi']\n",
      "[2, 1, 3]\n"
     ]
    }
   ],
   "source": [
    "#mix ej2\n",
    "contactos = []\n",
    "cant = []\n",
    "while True:\n",
    "    operacion = (input(\"add or find, q para salir\"))\n",
    "    if operacion == \"add\":\n",
    "        entrada = input(\"Ingresa el contacto: \")\n",
    "        contactos.append(entrada)\n",
    "    elif operacion == \"find\":\n",
    "        contador = 0\n",
    "        iniciales = input(\"Ingresa las iniciales a buscar: \")\n",
    "        for ind,nombre in enumerate(contactos):\n",
    "            if iniciales in nombre and iniciales[0] == nombre[0]:\n",
    "                contador +=1\n",
    "        cant.append(contador)\n",
    "    elif operacion == \"q\":\n",
    "        break\n",
    "    else:\n",
    "        continue\n",
    "print(\"tus contactos: \",contactos)\n",
    "print(cant)\n",
    "                \n",
    "\n",
    "\n"
   ]
  }
 ],
 "metadata": {
  "kernelspec": {
   "display_name": "Python 3",
   "language": "python",
   "name": "python3"
  },
  "language_info": {
   "codemirror_mode": {
    "name": "ipython",
    "version": 3
   },
   "file_extension": ".py",
   "mimetype": "text/x-python",
   "name": "python",
   "nbconvert_exporter": "python",
   "pygments_lexer": "ipython3",
   "version": "3.12.2"
  }
 },
 "nbformat": 4,
 "nbformat_minor": 2
}
