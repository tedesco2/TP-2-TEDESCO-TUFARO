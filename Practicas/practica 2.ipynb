{
 "cells": [
  {
   "cell_type": "code",
   "execution_count": 11,
   "metadata": {},
   "outputs": [
    {
     "name": "stdout",
     "output_type": "stream",
     "text": [
      "El numero es impar\n"
     ]
    }
   ],
   "source": [
    "num = input(\"Ingresa un numero: \")\n",
    "num = int(num)\n",
    "if (num % 2)==0:\n",
    "    print(\"El numero es par\")\n",
    "else:\n",
    "    print(\"El numero es impar\")"
   ]
  },
  {
   "cell_type": "code",
   "execution_count": 12,
   "metadata": {},
   "outputs": [
    {
     "name": "stdout",
     "output_type": "stream",
     "text": [
      "El numero es impar\n"
     ]
    }
   ],
   "source": [
    "num = input(\"Ingresa un numero: \")\n",
    "num = int(num)\n",
    "if (num % 2)==0:\n",
    "    print(\"El numero es par\")\n",
    "else:\n",
    "    print(\"El numero es impar\")"
   ]
  },
  {
   "cell_type": "code",
   "execution_count": 3,
   "metadata": {},
   "outputs": [
    {
     "name": "stdout",
     "output_type": "stream",
     "text": [
      "-1\n"
     ]
    }
   ],
   "source": [
    "a = int(input())\n",
    "b = int(input())\n",
    "\n",
    "if a == b:\n",
    "\tprint('0')\n",
    "elif a < b:\n",
    "\tprint('-1')\n",
    "elif a > b:\n",
    "\tprint('1')\n"
   ]
  },
  {
   "cell_type": "code",
   "execution_count": 13,
   "metadata": {},
   "outputs": [
    {
     "name": "stdout",
     "output_type": "stream",
     "text": [
      "tufa escucha ryan todo el dia\n"
     ]
    }
   ],
   "source": [
    "nombre = input(\"Ingrese su nombre: \")\n",
    "banda = input(\"Ingrese su banda fav: \")\n",
    "print(nombre, \"escucha\", banda, \"todo el dia\")"
   ]
  },
  {
   "cell_type": "code",
   "execution_count": 14,
   "metadata": {},
   "outputs": [
    {
     "name": "stdout",
     "output_type": "stream",
     "text": [
      "16\n"
     ]
    }
   ],
   "source": [
    "a = 8\n",
    "op = \"doble\"\n",
    "\n",
    "ans = a * 2 if op == \"doble\" else a / 2\n",
    "print(ans)"
   ]
  },
  {
   "cell_type": "code",
   "execution_count": 15,
   "metadata": {},
   "outputs": [],
   "source": [
    "a = 50 "
   ]
  },
  {
   "cell_type": "code",
   "execution_count": 16,
   "metadata": {},
   "outputs": [],
   "source": [
    "a = 50\n",
    "b  = 6\n",
    "c = 8\n",
    "\n",
    "d=  (2*a)+(1/(b-5*c))"
   ]
  },
  {
   "cell_type": "code",
   "execution_count": 17,
   "metadata": {},
   "outputs": [
    {
     "name": "stdout",
     "output_type": "stream",
     "text": [
      "99.97058823529412\n"
     ]
    }
   ],
   "source": [
    "a = 50\n",
    "b  = 6\n",
    "c = 8\n",
    "\n",
    "d=  (2*a)+(1/(b-5*c))\n",
    "print(d)\n"
   ]
  },
  {
   "cell_type": "code",
   "execution_count": 18,
   "metadata": {},
   "outputs": [
    {
     "name": "stdout",
     "output_type": "stream",
     "text": [
      "99.97058823529412\n"
     ]
    }
   ],
   "source": [
    "a = 50\n",
    "b  = 6\n",
    "c = 8\n",
    "a= int(a)\n",
    "b= int(b)\n",
    "c= int(c)\n",
    "\n",
    "d = (2*a)+(1/(b-5*c))\n",
    "print(d)\n"
   ]
  },
  {
   "cell_type": "code",
   "execution_count": 5,
   "metadata": {},
   "outputs": [
    {
     "name": "stdout",
     "output_type": "stream",
     "text": [
      "La lista no está vacía\n"
     ]
    }
   ],
   "source": [
    "lista = []\n",
    "if lista:\n",
    "    print(\"La lista no está vacía\")\n",
    "else:\n",
    "    print(\"La lista está vacía\")"
   ]
  },
  {
   "cell_type": "code",
   "execution_count": 20,
   "metadata": {},
   "outputs": [
    {
     "name": "stdout",
     "output_type": "stream",
     "text": [
      "La lista no está vacía\n"
     ]
    }
   ],
   "source": [
    "lista = [3]\n",
    "if lista:\n",
    "    print(\"La lista no está vacía\")\n",
    "else:\n",
    "    print(\"La lista está vacía\")"
   ]
  },
  {
   "cell_type": "code",
   "execution_count": 21,
   "metadata": {},
   "outputs": [
    {
     "name": "stdout",
     "output_type": "stream",
     "text": [
      "Su nota final es: \n"
     ]
    }
   ],
   "source": [
    "p1 = input(\"Ingrese la nota de su primer parcialito:\")\n",
    "p2 = input(\"ingrese la nota de su segundo parcialito:\")\n",
    "P1 = input(\"ingrese la nota de su parcial:\")\n",
    "F = input(\"Ingrese la nota de su final:\")\n",
    "p1 = int(p1)\n",
    "p2 = int(p2)\n",
    "P1 = int(P1)\n",
    "F = int(F)\n",
    "nota = 0\n",
    "nota = int(nota)\n",
    "\n",
    "if F>4:\n",
    "    nota = 0.5*F + 0.3*P1 + 0.1*p1 + 0.1*p2\n",
    "    print(\"Su nota final es: \")\n",
    "else: \n",
    "    print(\"No aprueba\")\n",
    "\n"
   ]
  },
  {
   "cell_type": "code",
   "execution_count": 22,
   "metadata": {},
   "outputs": [
    {
     "name": "stdout",
     "output_type": "stream",
     "text": [
      "Su nota final es:  72.5\n"
     ]
    }
   ],
   "source": [
    "p1 = input(\"Ingrese la nota de su primer parcialito:\")\n",
    "p2 = input(\"ingrese la nota de su segundo parcialito:\")\n",
    "P1 = input(\"ingrese la nota de su parcial:\")\n",
    "F = input(\"Ingrese la nota de su final:\")\n",
    "p1 = int(p1)\n",
    "p2 = int(p2)\n",
    "P1 = int(P1)\n",
    "F = int(F)\n",
    "nota = 0\n",
    "nota = int(nota)\n",
    "\n",
    "if F>4:\n",
    "    nota = 0.5*F + 0.3*P1 + 0.1*p1 + 0.1*p2\n",
    "    print(\"Su nota final es: \", nota)\n",
    "else: \n",
    "    print(\"No aprueba\")\n",
    "\n"
   ]
  },
  {
   "cell_type": "code",
   "execution_count": 23,
   "metadata": {},
   "outputs": [
    {
     "name": "stdout",
     "output_type": "stream",
     "text": [
      "Ignacio-Salvador-Tufaro\n"
     ]
    }
   ],
   "source": [
    "w1 = input(\"ingrese una palabra:\")\n",
    "w2 = input(\"ingrese una palabra:\")\n",
    "w3 = input(\"ingrese una palabra:\")\n",
    "s = input(\"Ingrese un separador\")\n",
    "e = input(\"Ingrese un final\")\n",
    "print(w1,w2,w3, sep = s)\n"
   ]
  },
  {
   "cell_type": "code",
   "execution_count": 6,
   "metadata": {},
   "outputs": [
    {
     "name": "stdout",
     "output_type": "stream",
     "text": [
      "hola.hola.hola!"
     ]
    }
   ],
   "source": [
    "w1 = input(\"ingrese una palabra:\")\n",
    "w2 = input(\"ingrese una palabra:\")\n",
    "w3 = input(\"ingrese una palabra:\")\n",
    "s = input(\"Ingrese un separador\")\n",
    "e = input(\"Ingrese un final\")\n",
    "print(w1,w2,w3, sep = s, end=e)\n"
   ]
  },
  {
   "cell_type": "code",
   "execution_count": 7,
   "metadata": {},
   "outputs": [
    {
     "name": "stdout",
     "output_type": "stream",
     "text": [
      "Sabado\n"
     ]
    }
   ],
   "source": [
    "dia = input(\"Elija un dia del año (1-366)\")\n",
    "dia = int(dia)\n",
    "if dia % 7 == 2:\n",
    "    print(\"Lunes\")\n",
    "elif dia % 7 == 3:\n",
    "    print(\"Martes\")\n",
    "elif dia % 7 == 4:\n",
    "    print(\"Miercoles\")\n",
    "elif dia % 7 == 5:\n",
    "    print(\"Jueves\")\n",
    "elif dia % 7 == 6: \n",
    "    print(\"Viernes\")\n",
    "elif dia % 7 == 0:\n",
    "    print(\"Sabado\")\n",
    "elif dia % 7 == 1:\n",
    "    print(\"Domingo\")"
   ]
  },
  {
   "cell_type": "code",
   "execution_count": 10,
   "metadata": {},
   "outputs": [
    {
     "name": "stdout",
     "output_type": "stream",
     "text": [
      "Las rectas se intersectan en x =  -6.0\n"
     ]
    }
   ],
   "source": [
    "m1 = int(input(\"Ingrese la pendiente de la recta 1: \"))\n",
    "b1 = int(input(\"Ingrese la ordenada al origen de la recta 1: \"))\n",
    "m2 = int(input(\"Ingrese la pendiente de la recta 2: \"))\n",
    "b2 = int(input(\"Ingrese la ordenada al origen de la recta 2: \"))\n",
    "x = 0\n",
    "float(x)\n",
    "\n",
    "if m1 == m2:\n",
    "    print(\"Las rectas son paralelas y no se intersectan\")\n",
    "else:\n",
    "    x = (b2-b1)/(m1-m2)\n",
    "    print(\"Las rectas se intersectan en x = \",x)"
   ]
  },
  {
   "cell_type": "code",
   "execution_count": 8,
   "metadata": {},
   "outputs": [
    {
     "ename": "TypeError",
     "evalue": "unsupported operand type(s) for -: 'NoneType' and 'int'",
     "output_type": "error",
     "traceback": [
      "\u001b[1;31m---------------------------------------------------------------------------\u001b[0m",
      "\u001b[1;31mTypeError\u001b[0m                                 Traceback (most recent call last)",
      "Cell \u001b[1;32mIn[8], line 35\u001b[0m\n\u001b[0;32m     32\u001b[0m         \u001b[38;5;28mprint\u001b[39m(\u001b[38;5;124m\"\u001b[39m\u001b[38;5;124mLa fecha es incorrecta\u001b[39m\u001b[38;5;124m\"\u001b[39m)\n\u001b[0;32m     33\u001b[0m     \u001b[38;5;28mprint\u001b[39m(\u001b[38;5;124m\"\u001b[39m\u001b[38;5;124mEl mes tiene 29 dias\u001b[39m\u001b[38;5;124m\"\u001b[39m)\n\u001b[1;32m---> 35\u001b[0m falt \u001b[38;5;241m=\u001b[39m \u001b[43mdias\u001b[49m\u001b[43m \u001b[49m\u001b[38;5;241;43m-\u001b[39;49m\u001b[43m \u001b[49m\u001b[43mdia\u001b[49m\n\u001b[0;32m     36\u001b[0m \u001b[38;5;28mprint\u001b[39m(\u001b[38;5;124m\"\u001b[39m\u001b[38;5;124mfaltan\u001b[39m\u001b[38;5;124m\"\u001b[39m,falt,\u001b[38;5;124m\"\u001b[39m\u001b[38;5;124mdias\u001b[39m\u001b[38;5;124m\"\u001b[39m)\n",
      "\u001b[1;31mTypeError\u001b[0m: unsupported operand type(s) for -: 'NoneType' and 'int'"
     ]
    }
   ],
   "source": [
    "año = int(input(\"Introducir un año: \"))\n",
    "mes = int(input(\"Introducir un mes: \"))\n",
    "dia = int(input(\"Introduce un dia: \"))\n",
    "biciesto = None \n",
    "dias = None\n",
    "\n",
    "if año % 4 == 0:\n",
    "    biciesto = True \n",
    "elif año % 100 == 0 and año % 400 == 0:\n",
    "    biciesto = True \n",
    "else:\n",
    "    biciesto = False \n",
    "\n",
    "if mes == (1 or 4 or 6 or 9 or 11):\n",
    "    dias = 30\n",
    "    if dias != dia:\n",
    "        print(\"La fecha es incorrecta\")\n",
    "    print(\"El mes tiene 30 dias\")\n",
    "elif mes == (3 or 5 or 7 or 8 or 10 or 12):\n",
    "    dias = 31\n",
    "    if dias != dia:\n",
    "        print(\"La fecha es incorrecta\")\n",
    "    print(\"El mes tiene 31 dias\")\n",
    "elif (biciesto == False) and (mes == 2):\n",
    "    dias = 28\n",
    "    if dias != dia:\n",
    "        print(\"La fecha es incorrecta\")\n",
    "    print(\"El mes tiene 28 dias\")\n",
    "elif (biciesto == True) and (mes == 2):\n",
    "    dias = 29\n",
    "    if dias != dia:\n",
    "        print(\"La fecha es incorrecta\")\n",
    "    print(\"El mes tiene 29 dias\")\n",
    "\n",
    "falt = dias - dia\n",
    "print(\"faltan\",falt,\"dias\")"
   ]
  },
  {
   "cell_type": "code",
   "execution_count": 15,
   "metadata": {},
   "outputs": [
    {
     "name": "stdout",
     "output_type": "stream",
     "text": [
      "Su planeta  Venus es terrestre e interior\n"
     ]
    }
   ],
   "source": [
    "planeta = input(\"Introduzca un planeta: \")\n",
    "\n",
    "if planeta == \"Mercurio\" or \"Venus\" or \"Tierra\" or \"Marte\":\n",
    "    print(\"Su planeta \",planeta,\"es terrestre e interior\")\n",
    "elif planeta == \"Jupiter\" or \"Saturno\":\n",
    "    print(\"Su planeta \",planeta,\"es exterior y gigantes gaseosos\")\n",
    "elif planeta == \"Urano\" or \"Neptuno\":\n",
    "    print(\"Su planeta \",planeta,\"es exterior y gigante helado\")\n"
   ]
  }
 ],
 "metadata": {
  "kernelspec": {
   "display_name": "Python 3",
   "language": "python",
   "name": "python3"
  },
  "language_info": {
   "codemirror_mode": {
    "name": "ipython",
    "version": 3
   },
   "file_extension": ".py",
   "mimetype": "text/x-python",
   "name": "python",
   "nbconvert_exporter": "python",
   "pygments_lexer": "ipython3",
   "version": "3.12.2"
  }
 },
 "nbformat": 4,
 "nbformat_minor": 2
}
