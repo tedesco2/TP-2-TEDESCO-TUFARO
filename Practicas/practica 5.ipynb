{
 "cells": [
  {
   "cell_type": "markdown",
   "metadata": {
    "isInteractiveWindowMessageCell": true
   },
   "source": [
    "Connected to Python 3.12.2"
   ]
  },
  {
   "cell_type": "code",
   "execution_count": 11,
   "metadata": {},
   "outputs": [
    {
     "name": "stdout",
     "output_type": "stream",
     "text": [
      "name: Ignacio\n",
      "Last name: Tufaro\n",
      "Age: 19\n",
      "Profession: Estudiante\n"
     ]
    }
   ],
   "source": [
    "#6\n",
    "def some_function(a, b,c,d):\n",
    "    dic = {\"name\":a,\"Last name\":b,\"Age\":c,\"Profession\":d}\n",
    "    for e in dic:\n",
    "        print(e+\":\",dic[e])\n",
    "\n",
    "a= \"Ignacio\"\n",
    "b = \"Tufaro\"\n",
    "c = \"19\" \n",
    "d = \"Estudiante\"\n",
    "some_function(a,b,c,d)"
   ]
  },
  {
   "cell_type": "code",
   "execution_count": 12,
   "metadata": {},
   "outputs": [
    {
     "name": "stdout",
     "output_type": "stream",
     "text": [
      "Los segundos totales son: 3940\n"
     ]
    }
   ],
   "source": [
    "#12 Escriba una función que dadas la hora, minutos y segundos devuelva el tiempo en segundos.\n",
    "hora = int(input(\"Introduce las horas\"))\n",
    "min = int(input(\"Introduce los minutos\"))\n",
    "seg = int(input(\"Introduce los segundos\"))\n",
    "\n",
    "min_totales = min + (hora *60)\n",
    "seg_totales = min_totales*60 + seg\n",
    "\n",
    "print(\"Los segundos totales son:\",seg_totales)"
   ]
  },
  {
   "cell_type": "code",
   "execution_count": 19,
   "metadata": {},
   "outputs": [
    {
     "name": "stdout",
     "output_type": "stream",
     "text": [
      "Hora: 1 2 25\n"
     ]
    }
   ],
   "source": [
    "#13\n",
    "seg_iniciales = int(input(\"Introduce los segundos\"))\n",
    "\n",
    "horas = seg_iniciales // 3600\n",
    "resto = seg_iniciales % 3600\n",
    "min = resto // 60\n",
    "seg = resto % 60\n",
    "print(\"Hora:\",horas,min,seg)"
   ]
  },
  {
   "cell_type": "code",
   "execution_count": 24,
   "metadata": {},
   "outputs": [
    {
     "name": "stdout",
     "output_type": "stream",
     "text": [
      "[6.25, 6.0, 4.25]\n"
     ]
    }
   ],
   "source": [
    "#15\n",
    "lista1 = [7,9,3,6,6,2]\n",
    "lista2 = []\n",
    "n = 4\n",
    "\n",
    "for i in range(n):\n",
    "    suma = 0\n",
    "    if n+i <= len(lista1):\n",
    "        for e in range(n):\n",
    "            \n",
    "            suma += lista1[e+i]\n",
    "        promedio = suma/n\n",
    "        lista2 += [promedio]\n",
    "\n",
    "print(lista2)"
   ]
  },
  {
   "cell_type": "code",
   "execution_count": 29,
   "metadata": {},
   "outputs": [
    {
     "data": {
      "text/plain": [
       "50"
      ]
     },
     "execution_count": 29,
     "metadata": {},
     "output_type": "execute_result"
    }
   ],
   "source": [
    "50%500"
   ]
  }
 ],
 "metadata": {
  "kernelspec": {
   "display_name": "Python 3",
   "language": "python",
   "name": "python3"
  },
  "language_info": {
   "codemirror_mode": {
    "name": "ipython",
    "version": 3
   },
   "file_extension": ".py",
   "mimetype": "text/x-python",
   "name": "python",
   "nbconvert_exporter": "python",
   "pygments_lexer": "ipython3",
   "version": "3.12.2"
  }
 },
 "nbformat": 4,
 "nbformat_minor": 2
}
