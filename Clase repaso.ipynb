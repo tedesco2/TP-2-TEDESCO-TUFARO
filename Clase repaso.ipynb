{
 "cells": [
  {
   "cell_type": "markdown",
   "metadata": {
    "isInteractiveWindowMessageCell": true
   },
   "source": [
    "Connected to Python 3.12.2"
   ]
  },
  {
   "cell_type": "code",
   "execution_count": 4,
   "metadata": {},
   "outputs": [
    {
     "name": "stdout",
     "output_type": "stream",
     "text": [
      "[0, 2, 4, 6, 8, 10, 12, 14, 16, 18, 20, 22, 24, 26, 28, 30, 32, 34, 36, 38, 40, 42, 44, 46, 48, 50, 52, 54, 56, 58, 60, 62, 64, 66, 68, 70, 72, 74, 76, 78, 80, 82, 84, 86, 88, 90, 92, 94, 96, 98]\n"
     ]
    }
   ],
   "source": [
    "#CREAR UNA LISTA CON TODOS LOS NUM PARES DE 0 A 100\n",
    "\n",
    "pares = []\n",
    "for i in range(100):\n",
    "    if i%2==0:\n",
    "        pares += [i]\n",
    "\n",
    "print(pares)\n"
   ]
  },
  {
   "cell_type": "code",
   "execution_count": 1,
   "metadata": {},
   "outputs": [
    {
     "name": "stdout",
     "output_type": "stream",
     "text": [
      "[0, 2, 4, 6, 8, 10, 12, 14, 16, 18, 20, 22, 24, 26, 28, 30, 32, 34, 36, 38, 40, 42, 44, 46, 48, 50, 52, 54, 56, 58, 60, 62, 64, 66, 68, 70, 72, 74, 76, 78, 80, 82, 84, 86, 88, 90, 92, 94, 96, 98, 100]\n"
     ]
    }
   ],
   "source": [
    "#CREAR UNA LISTA CON TODOS LOS NUM PARES DE 0 A 100\n",
    "#USANDO .APPEND\n",
    "pares = []\n",
    "for i in range(101):\n",
    "    if i%2==0:\n",
    "        pares.append(i)\n",
    "\n",
    "print(pares)"
   ]
  },
  {
   "cell_type": "code",
   "execution_count": 2,
   "metadata": {},
   "outputs": [
    {
     "name": "stdout",
     "output_type": "stream",
     "text": [
      "[0, 2, 4, 6, 8, 10, 12, 14, 16, 18, 20, 22, 24, 26, 28, 30, 32, 34, 36, 38, 40, 42, 44, 46, 48, 50, 52, 54, 56, 58, 60, 62, 64, 66, 68, 70, 72, 74, 76, 78, 80, 82, 84, 86, 88, 90, 92, 94, 96, 98, 100]\n"
     ]
    }
   ],
   "source": [
    "#CREAR UNA LISTA CON TODOS LOS NUM PARES DE 0 A 100\n",
    "#USANDO CONCATENACION\n",
    "pares = []\n",
    "for i in range(101):\n",
    "    if i % 2 == 0:\n",
    "        pares = pares + [i] #creo una lista temporal con el numero y la concateno (sumo) a mi lista inicial\n",
    "\n",
    "print(pares)"
   ]
  },
  {
   "cell_type": "code",
   "execution_count": 2,
   "metadata": {},
   "outputs": [
    {
     "name": "stdout",
     "output_type": "stream",
     "text": [
      "hay 7 joyas\n"
     ]
    }
   ],
   "source": [
    "#Guia 8 - ej6\n",
    "\n",
    "Piedras = \"aAAbbbb\"\n",
    "joyas = \"aA\"\n",
    "cant_joyas = 0\n",
    "for i in Piedras:\n",
    "    if joyas in Piedras:\n",
    "        cant_joyas +=1\n",
    "print(\"hay\",cant_joyas,\"joyas\")\n"
   ]
  },
  {
   "cell_type": "code",
   "execution_count": 3,
   "metadata": {},
   "outputs": [
    {
     "name": "stdout",
     "output_type": "stream",
     "text": [
      "La cantidad de joyas es: 3\n"
     ]
    }
   ],
   "source": [
    "def contar_joyas(piedras,joyas):\n",
    "    cant = 0\n",
    "    for joya in joyas: #toma todos los valores de una joya \"a\" o \"A\", etc\n",
    "        for piedra in piedras: #recorre todos los valores de las piedras\n",
    "            if piedra == joya: #si el valor de la piedra es igual a la joya inicial suma 1\n",
    "                cant +=1\n",
    "    return cant\n",
    "\n",
    "piedras = \"aAAbbbb\"\n",
    "joyas = \"aA\"\n",
    "print(\"La cantidad de joyas es:\", contar_joyas(piedras,joyas))"
   ]
  },
  {
   "cell_type": "code",
   "execution_count": 27,
   "metadata": {},
   "outputs": [
    {
     "name": "stdout",
     "output_type": "stream",
     "text": [
      "La cantidad de joyas es: 3\n"
     ]
    }
   ],
   "source": [
    "def contar_joyas(piedras,joyas):\n",
    "    cant = 0\n",
    "    for piedra in piedras: #toma todos los valores de una joya \"a\" o \"A\", etc\n",
    "        if piedra in joyas: #pertenencia ¿Esta la piedra en joyas? \n",
    "            cant +=1\n",
    "    return cant\n",
    "\n",
    "piedras = \"aAAbbbb\"\n",
    "joyas = \"aA\"\n",
    "print(\"La cantidad de joyas es:\", contar_joyas(piedras,joyas))\n"
   ]
  },
  {
   "cell_type": "code",
   "execution_count": 24,
   "metadata": {},
   "outputs": [
    {
     "ename": "NameError",
     "evalue": "name 'N' is not defined",
     "output_type": "error",
     "traceback": [
      "\u001b[1;31m---------------------------------------------------------------------------\u001b[0m",
      "\u001b[1;31mNameError\u001b[0m                                 Traceback (most recent call last)",
      "Cell \u001b[1;32mIn[24], line 4\u001b[0m\n\u001b[0;32m      2\u001b[0m n \u001b[38;5;241m=\u001b[39m \u001b[38;5;241m5\u001b[39m\n\u001b[0;32m      3\u001b[0m valor \u001b[38;5;241m=\u001b[39m \u001b[38;5;241m0\u001b[39m\n\u001b[1;32m----> 4\u001b[0m \u001b[38;5;28;01mfor\u001b[39;00m i \u001b[38;5;129;01min\u001b[39;00m \u001b[38;5;28mrange\u001b[39m(\u001b[43mN\u001b[49m):  \u001b[38;5;66;03m#Lista estado inicial\u001b[39;00m\n\u001b[0;32m      5\u001b[0m         lf\u001b[38;5;241m=\u001b[39m[]\n\u001b[0;32m      6\u001b[0m         \u001b[38;5;28;01mfor\u001b[39;00m i \u001b[38;5;129;01min\u001b[39;00m \u001b[38;5;28mrange\u001b[39m(N):         \n",
      "\u001b[1;31mNameError\u001b[0m: name 'N' is not defined"
     ]
    }
   ],
   "source": [
    "caracol = []\n",
    "n = 5\n",
    "valor = 0\n",
    "for i in range(N):  #Lista estado inicial\n",
    "        lf=[]\n",
    "        for i in range(N):         \n",
    "                        lf.append(int(random.choices([-1, -2], [di, (1-di)])[0]))\n",
    "        lista.append(lf)\n",
    "\n",
    "for i in range(n):\n",
    "        lst = []\n",
    "        for i in range(n):\n",
    "                lf.append(valor)\n",
    "                valor+1\n"
   ]
  },
  {
   "cell_type": "code",
   "execution_count": 27,
   "metadata": {},
   "outputs": [
    {
     "name": "stdout",
     "output_type": "stream",
     "text": [
      "False\n"
     ]
    }
   ],
   "source": [
    "p = bool(input(\"Ingrese p: \"))\n",
    "q = bool(input(\"Ingrese q: \"))\n",
    "r = bool(input(\"Ingrese r: \"))\n",
    "z = True\n",
    "\n",
    "if (p == False):\n",
    "    z = False\n",
    "elif (p == True) and (q == False) and (r == True):\n",
    "    z = False\n",
    "\n",
    "\n",
    "print(z)"
   ]
  }
 ],
 "metadata": {
  "kernelspec": {
   "display_name": "Python 3",
   "language": "python",
   "name": "python3"
  },
  "language_info": {
   "codemirror_mode": {
    "name": "ipython",
    "version": 3
   },
   "file_extension": ".py",
   "mimetype": "text/x-python",
   "name": "python",
   "nbconvert_exporter": "python",
   "pygments_lexer": "ipython3",
   "version": "3.12.2"
  }
 },
 "nbformat": 4,
 "nbformat_minor": 2
}
