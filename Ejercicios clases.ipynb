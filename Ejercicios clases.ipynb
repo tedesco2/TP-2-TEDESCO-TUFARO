{
 "cells": [
  {
   "cell_type": "code",
   "execution_count": null,
   "metadata": {},
   "outputs": [],
   "source": [
    "#CLASE 3 -ejercicio ejemplo\n",
    "t1 = input(\"Temperatura del primer sensor: \")\n",
    "t2 = input(\"Temperatura del segundo sensor: \")\n",
    "t3 = input(\"temperatura del tercer sensor: \")\n",
    "t1 = int(t1)\n",
    "t2 = int(t2)\n",
    "t3 = int(t3)\n",
    "total = 0\n",
    "total = int(total)\n",
    "\n",
    "if (t1>100):\n",
    "  total = total + 1\n",
    "if (t2>100):\n",
    "  total = total + 1\n",
    "if (t3>100):\n",
    "  total = total + 1\n",
    "\n",
    "if total == 3:\n",
    "  print(\"Peligro!\")\n",
    "elif total == 2:\n",
    "  print(\"alerta\")\n",
    "elif total == 1:\n",
    "  print(\"Precaucion\")\n",
    "else:\n",
    "  print(\"Estable\")"
   ]
  },
  {
   "cell_type": "code",
   "execution_count": null,
   "metadata": {},
   "outputs": [],
   "source": [
    "#CLASE 4 -ejercicio ejemplo\n",
    "p1 = {\"Nombre\":input(\"Introduzca el nombre del producto:\"), \"Precio\":input(\"Introduzca el precio del producto:\"),\"Cantidad\":input(\"Introduzca la cantidad:\")}\n",
    "p2 = {\"Nombre\":input(\"Introduzca el nombre del producto:\"), \"Precio\":input(\"Introduzca el precio del producto:\"),\"Cantidad\":input(\"Introduzca la cantidad:\")}\n",
    "p3 = {\"Nombre\":input(\"Introduzca el nombre del producto:\"), \"Precio\":input(\"Introduzca el precio del producto:\"),\"Cantidad\":input(\"Introduzca la cantidad:\")}\n",
    "L= [p1,p2,p3]\n",
    "\n",
    "print(\"----Resumen----\")\n",
    "print(\"\\nProducto: \",L[0][\"Nombre\"],\"\\nPrecio: $\",L[0][\"Precio\"],\"\\nCantidad: \",L[0][\"Cantidad\"])\n",
    "print(\"\\nProducto: \",L[1][\"Nombre\"],\"\\nPrecio: $\",L[1][\"Precio\"],\"\\nCantidad: \",L[1][\"Cantidad\"])\n",
    "print(\"\\nProducto: \",L[2][\"Nombre\"],\"\\nPrecio: $\",L[2][\"Precio\"],\"\\nCantidad: \",L[2][\"Cantidad\"])"
   ]
  },
  {
   "cell_type": "code",
   "execution_count": 5,
   "metadata": {},
   "outputs": [
    {
     "name": "stdout",
     "output_type": "stream",
     "text": [
      "Acceso denegado\n"
     ]
    }
   ],
   "source": [
    "#CLASE 5 -ejercicio ejemplo\n",
    "clave = \"Python1234\"\n",
    "a = input(\"Introduzca una clave: \")\n",
    "intentos = 1\n",
    "correcta = False\n",
    "while not correcta and intentos < 5: #a != clave and intentos < 5:\n",
    "    a = input(\"Error - Introduzca una nueva clave: \")\n",
    "    intentos = intentos +1 \n",
    "    if a == clave: \n",
    "        correcta = True\n",
    "        print(\"Contraseña Correcta\")\n",
    "if correcta == False:\n",
    "    print(\"Acceso denegado\")"
   ]
  },
  {
   "cell_type": "code",
   "execution_count": null,
   "metadata": {},
   "outputs": [
    {
     "name": "stdout",
     "output_type": "stream",
     "text": [
      "Nombre: chocolate\n",
      "Precio: 800\n",
      "Cantidad: 2\n",
      "\n",
      "Nombre: leche\n",
      "Precio: 600\n",
      "Cantidad: 1\n",
      "\n",
      "Nombre: alfajores\n",
      "Precio: 500\n",
      "Cantidad: 4\n",
      "\n"
     ]
    }
   ],
   "source": [
    "#CLASE 5 -ejercicio ejemplo\n",
    "p1 = {\"Nombre\":input(\"Introduzca el nombre del producto:\"), \"Precio\":input(\"Introduzca el precio del producto:\"),\"Cantidad\":input(\"Introduzca la cantidad:\")}\n",
    "p2 = {\"Nombre\":input(\"Introduzca el nombre del producto:\"), \"Precio\":input(\"Introduzca el precio del producto:\"),\"Cantidad\":input(\"Introduzca la cantidad:\")}\n",
    "p3 = {\"Nombre\":input(\"Introduzca el nombre del producto:\"), \"Precio\":input(\"Introduzca el precio del producto:\"),\"Cantidad\":input(\"Introduzca la cantidad:\")}\n",
    "L= [p1,p2,p3]\n",
    "\n",
    "for dicc_producto in L:\n",
    "    for clave in dicc_producto:\n",
    "        print(clave+\":\",dicc_producto[clave])\n",
    "    print(\"\")\n"
   ]
  },
  {
   "cell_type": "code",
   "execution_count": 17,
   "metadata": {},
   "outputs": [
    {
     "name": "stdout",
     "output_type": "stream",
     "text": [
      "Acceso permitido\n"
     ]
    }
   ],
   "source": [
    "#CLASE 5 -ejercicio ejemplo\n",
    "clave = \"1234\"\n",
    "acceso_permitido = False\n",
    "intentos = 1\n",
    "clave_ingresada = input(\"Ingrese una clave\") #Cuenta como primer intento\n",
    "while acceso_permitido == False and intentos < 5:\n",
    "\tintentos += 1\n",
    "\tif clave_ingresada == clave:\n",
    "\t\tprint(\"Acceso permitido\")\n",
    "\t\tacceso_permitido = True\n",
    "\telse: \n",
    "\t\tclave_ingresada = input(\"Error, Ingrese una nueva clave: \")\n",
    "\n",
    "if intentos >=5 and acceso_permitido==False:\n",
    "\tprint(\"Acceso denegado\")\n"
   ]
  },
  {
   "cell_type": "code",
   "execution_count": 1,
   "metadata": {},
   "outputs": [
    {
     "name": "stdout",
     "output_type": "stream",
     "text": [
      "El resultado es:  13.0\n"
     ]
    }
   ],
   "source": [
    "#CLASE 6 -ejercicio ejemplo\n",
    "Valores = []\n",
    "\n",
    "def rango_lista ():\n",
    "    rango = 0\n",
    "    rango = int(input(\"De cuantos valores sera la lista: \"))\n",
    "    if rango > 10:\n",
    "        return \"Error\"\n",
    "    else:\n",
    "        return rango\n",
    "\n",
    "def lista ():\n",
    "     num = 0\n",
    "     while num < (rango):\n",
    "         a1= int(input(\"Ingrese un numero: \"))\n",
    "         Valores.append(a1)\n",
    "         num = num +1\n",
    "    \n",
    "\n",
    "def promedio(lista):\n",
    "    suma = 0\n",
    "    for i in lista:\n",
    "        suma = suma + i\n",
    "    promedio = suma/len(lista)\n",
    "    return promedio\n",
    "        \n",
    "\n",
    "rango = rango_lista()\n",
    "if rango == \"Error\":\n",
    "    print(\"Eror, la lista no acepta mas de 10 valores\")\n",
    "else:\n",
    "    lista()\n",
    "    resultado = promedio(Valores)\n",
    "    print (\"El resultado es: \", resultado)"
   ]
  },
  {
   "cell_type": "code",
   "execution_count": 9,
   "metadata": {},
   "outputs": [
    {
     "name": "stdout",
     "output_type": "stream",
     "text": [
      "El promedio de la lista es: 7.0\n"
     ]
    }
   ],
   "source": [
    "#Clase 6 - ejercicio ejemplo\n",
    "def promedio(lista,tamaño_lista):\n",
    "\tsumatoria = 0\n",
    "\tfor e in lista:\n",
    "\t\tsumatoria += e\n",
    "\tpromedio = round(sumatoria/tamaño_lista,2)\n",
    "\treturn promedio\n",
    "\n",
    "tamaño_lista = int(input('De cuantos valores sera la lista: '))\n",
    "lista = []\n",
    "for i in range(tamaño_lista):\n",
    "\tvalores = int(input('Ingrese un valor: '))\n",
    "\tlista.append(valores)\n",
    "\t\n",
    "promedio = promedio(lista,tamaño_lista)\n",
    "\n",
    "print('El promedio de la lista es:',promedio)"
   ]
  },
  {
   "cell_type": "code",
   "execution_count": 23,
   "metadata": {},
   "outputs": [
    {
     "name": "stdout",
     "output_type": "stream",
     "text": [
      "['a', 'a', 'a', 'a', 'a']\n",
      "a a a a a\n"
     ]
    }
   ],
   "source": [
    "N = 5\n",
    "lista = []\n",
    "lista =[0]* N\n",
    "for i in range(N):\n",
    "    lista[i] = \"a\"\n",
    "\n",
    "print(lista)\n",
    "print(*lista)"
   ]
  },
  {
   "cell_type": "code",
   "execution_count": 40,
   "metadata": {},
   "outputs": [
    {
     "name": "stdout",
     "output_type": "stream",
     "text": [
      "815\n"
     ]
    }
   ],
   "source": [
    "datos_messi = { 'nombre': 'Lionel', 'apellido': 'Messi', 'goles': { 'barcelona': 672, 'psg': 32, 'inter de miami': 8, 'seleccion': 103 } } \n",
    "suma = 0\n",
    "\n",
    "for i in datos_messi['goles']: #Recorro el diccionario \"goles\" dentro del dic #datos messi\". Osea, barcelona, psg, inter, seleccion.\n",
    "    suma += datos_messi[\"goles\"][i] #Indexo el valor del equipo para obtener el valor de goles y lo sumo\n",
    "print(suma)"
   ]
  },
  {
   "cell_type": "code",
   "execution_count": 11,
   "metadata": {},
   "outputs": [
    {
     "name": "stdout",
     "output_type": "stream",
     "text": [
      "1\n",
      "2\n",
      "3\n",
      "4\n",
      "5\n",
      "6\n",
      "7\n",
      "8\n",
      "9\n",
      "10\n"
     ]
    }
   ],
   "source": [
    "#Clase 13\n",
    "lista = [1,2,3,4,5,6,7,8,9,10]\n",
    "while len(lista) != 0:\n",
    "    elemento = lista.pop(0)\n",
    "    print(elemento)"
   ]
  },
  {
   "cell_type": "code",
   "execution_count": 4,
   "metadata": {},
   "outputs": [
    {
     "name": "stdout",
     "output_type": "stream",
     "text": [
      "['hola', 'mi', 'nombre', 'es', 'tufa']\n"
     ]
    }
   ],
   "source": [
    "#Clase 13\n",
    "frase = input(\"Ingrese una oracion\")\n",
    "frase.capitalize()\n",
    "print(frase.split())"
   ]
  },
  {
   "cell_type": "code",
   "execution_count": 27,
   "metadata": {},
   "outputs": [
    {
     "name": "stdout",
     "output_type": "stream",
     "text": [
      "['hola', 'hola', 'hola', 'mi', 'nombre', 'es', 'nombre', 'nombre', 'tufa']\n",
      "hola: 3\n",
      "mi: 1\n",
      "nombre: 3\n",
      "es: 1\n",
      "tufa: 1\n"
     ]
    }
   ],
   "source": [
    "#Clase 13\n",
    "frase = input(\"Ingrese una oracion\")\n",
    "frase = frase.lower()\n",
    "lista = frase.split()\n",
    "dic ={}\n",
    "print(lista)\n",
    "def contar_palabras(lista):\n",
    "    for palabra in lista:\n",
    "        if not (palabra in dic):\n",
    "            dic[palabra] = lista.count(palabra)\n",
    "    return dic\n",
    "\n",
    "dic = contar_palabras(lista)\n",
    "\n",
    "for clave, valor in dic.items():\n",
    "    print(f'{clave}: {valor}')\n",
    "\n"
   ]
  },
  {
   "cell_type": "code",
   "execution_count": 40,
   "metadata": {},
   "outputs": [
    {
     "name": "stdout",
     "output_type": "stream",
     "text": [
      "234\n"
     ]
    }
   ],
   "source": [
    "#Clase 14\n",
    "while True:\n",
    "    num = input(\"Ingrese un numero\")\n",
    "    if num.isdecimal():\n",
    "        break\n",
    "print(num)"
   ]
  },
  {
   "cell_type": "code",
   "execution_count": 55,
   "metadata": {},
   "outputs": [
    {
     "name": "stdout",
     "output_type": "stream",
     "text": [
      "[5, 7, 3, 5, 5, 2, 3, 7]\n"
     ]
    }
   ],
   "source": [
    "#Clase 14\n",
    "import random\n",
    "n =int(input(\"Ingrese el tamaño de lista\"))\n",
    "l = [random.randint(0,n) for i in range(n)]\n",
    "\n",
    "print(l)\n"
   ]
  },
  {
   "cell_type": "code",
   "execution_count": 64,
   "metadata": {},
   "outputs": [
    {
     "name": "stdout",
     "output_type": "stream",
     "text": [
      "['hola', 'mundo', 'mi', 'nombre', 'es', 'tufa']\n",
      "{'hola': 4, 'mundo': 5, 'mi': 2, 'nombre': 6, 'es': 2, 'tufa': 4}\n",
      "hola: 4\n",
      "mundo: 5\n",
      "mi: 2\n",
      "nombre: 6\n",
      "es: 2\n",
      "tufa: 4\n"
     ]
    }
   ],
   "source": [
    "#Clase 14\n",
    "frase = input('Ingrese una frase')\n",
    "l = [i for i in frase.split() if i.isalpha()]\n",
    "print(l)\n",
    "\n",
    "dic = {e:len(e) for e in l}\n",
    "print(dic)\n",
    "for clave,valor in dic.items():\n",
    "    print(f'{clave}: {valor}')"
   ]
  },
  {
   "cell_type": "code",
   "execution_count": 7,
   "metadata": {},
   "outputs": [
    {
     "name": "stdout",
     "output_type": "stream",
     "text": [
      "\n",
      "--->  (c  2)  \n",
      "\n",
      "\n",
      "--->  (f  9)  \n",
      "\n",
      "\n",
      "--->  (f  2)  \n",
      "\n",
      "\n",
      "--->  (c  J)  \n",
      "\n",
      "\n",
      "--->  (e  9)  \n",
      "\n",
      "\n",
      "--->  (p  9)  \n",
      "\n",
      "\n",
      "--->  (p  3)  \n",
      "\n",
      "\n",
      "--->  (c  4)  \n",
      "\n",
      "\n",
      "--->  (p  Q)  \n",
      "\n",
      "\n",
      "--->  (p  J)  \n",
      "\n",
      "\n",
      "bye!\n"
     ]
    }
   ],
   "source": [
    "#Clase 15\n",
    "#Parametros iniciales\n",
    "import random\n",
    "fig = [\"c\",\"p\",\"f\",\"e\"]\n",
    "num = [\"A\",\"2\",\"3\",\"4\",\"5\",\"6\",\"7\",\"8\",\"9\",\"J\",\"Q\",\"K\"]\n",
    "mezclas = 150 #veces que se mezcla el mazo\n",
    "\n",
    "#Funcion crear mazo\n",
    "def crear_mazo(fig,num):\n",
    "    mazo = []\n",
    "    for f in fig:\n",
    "        for i,v in enumerate(num,1):\n",
    "            dicc = {\"figura\":f,\"numero\":v,\"valor\":i}\n",
    "            mazo.append(dicc)\n",
    "    return mazo\n",
    "\n",
    "#Algoritmo para mezclar el mazo\n",
    "def mezclar_mazo(mazo,mezclas : int):\n",
    "    n = len(mazo)\n",
    "    i_ant = random.randint(0,n-1)\n",
    "    for _ in range(mezclas):\n",
    "        i = random.randint(0,n-1)\n",
    "        mazo[i], mazo[i_ant] = mazo[i_ant], mazo [i] #Swapeo de cartas\n",
    "        i_ant = i \n",
    "\n",
    "#Sacar carta \n",
    "def sacar_carta(mazo):\n",
    "    mensaje = \"Presiona una tecla para sacar una carta\"\n",
    "    for carta in mazo:\n",
    "        entrada = input(mensaje)\n",
    "        if entrada == \"q\":\n",
    "            print(\"\\nbye!\")\n",
    "            break\n",
    "        print(f\"\\n--->  ({carta[\"figura\"]}  {carta[\"numero\"]})  \\n\")\n",
    "\n",
    "def main():\n",
    "    mazo = crear_mazo(fig,num)\n",
    "    mezclar_mazo(mazo,mezclas)\n",
    "    sacar_carta(mazo)\n",
    "\n",
    "if __name__ == \"__main__\":\n",
    "    main()\n"
   ]
  },
  {
   "cell_type": "code",
   "execution_count": null,
   "metadata": {},
   "outputs": [],
   "source": []
  }
 ],
 "metadata": {
  "kernelspec": {
   "display_name": "Python 3",
   "language": "python",
   "name": "python3"
  },
  "language_info": {
   "codemirror_mode": {
    "name": "ipython",
    "version": 3
   },
   "file_extension": ".py",
   "mimetype": "text/x-python",
   "name": "python",
   "nbconvert_exporter": "python",
   "pygments_lexer": "ipython3",
   "version": "3.12.2"
  }
 },
 "nbformat": 4,
 "nbformat_minor": 2
}
